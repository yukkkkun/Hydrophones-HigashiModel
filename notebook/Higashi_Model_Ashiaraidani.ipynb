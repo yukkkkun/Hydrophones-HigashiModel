{
 "cells": [
  {
   "cell_type": "markdown",
   "metadata": {},
   "source": [
    "引継ぎ用\n",
    "このファイルは，モデルを理解するために必要な解説のみを書いています．  \n",
    "上から順に実行していくと，修士論文の内容に沿った考えが理解できると思います．  \n",
    "これはあくまでも色々試した中の一部の流れなので，僕の試行錯誤の流れを見たい場合は他のファイルのコードを読んでください．\n",
    "\n",
    "質問は  \n",
    "yutaka.higashis3@gmail.comもしくは、yutaka.higashis10@gmail.comまで．  \n",
    "Ctrl＋Enterでセルを実行できます．上から順に実行していってください．  \n",
    "モジュールはmy_moduleに入っています．  \n",
    "データは，dataに入っています．"
   ]
  },
  {
   "cell_type": "markdown",
   "metadata": {},
   "source": [
    "# ライブラリ"
   ]
  },
  {
   "cell_type": "code",
   "execution_count": 59,
   "metadata": {
    "ExecuteTime": {
     "end_time": "2020-02-20T00:49:08.016213Z",
     "start_time": "2020-02-20T00:49:07.956379Z"
    }
   },
   "outputs": [
    {
     "name": "stdout",
     "output_type": "stream",
     "text": [
      "C:\\Users\\user\\OneDrive - Kyoto University\\shared-Yutaka\\Research\\Hydrophone_Higashi_MastersThesis\\notebook\n"
     ]
    },
    {
     "data": {
      "text/plain": [
       "<module 'dispgraphs' from 'C:\\\\Users\\\\user\\\\OneDrive - Kyoto University\\\\shared-Yutaka\\\\Research\\\\Hydrophone_Higashi_MastersThesis\\\\my_module\\\\dispgraphs.py'>"
      ]
     },
     "execution_count": 59,
     "metadata": {},
     "output_type": "execute_result"
    }
   ],
   "source": [
    "import csv\n",
    "import datetime as dt\n",
    "import math\n",
    "import os\n",
    "import re\n",
    "import sys\n",
    "\n",
    "import matplotlib.pyplot as plt\n",
    "import numpy as np\n",
    "import pandas as pd\n",
    "import seaborn as sns\n",
    "from scipy import optimize\n",
    "from matplotlib import animation\n",
    "from matplotlib import pyplot as plt\n",
    "from matplotlib import cm\n",
    "from pylab import rcParams\n",
    "from sklearn import linear_model\n",
    "from sklearn.model_selection import cross_validate\n",
    "from sklearn.preprocessing import PolynomialFeatures\n",
    "from scipy.optimize import minimize\n",
    "from IPython.display import display\n",
    "from scipy.optimize import minimize\n",
    "from sklearn.metrics import mean_absolute_error\n",
    "from sklearn.metrics import mean_squared_error\n",
    "from sklearn.metrics import r2_score\n",
    "\n",
    "\n",
    "from logging import getLogger, StreamHandler, DEBUG, INFO, WARNING\n",
    "\n",
    "#自作モジュール用フォルダにパスを通す\n",
    "print(os.getcwd())\n",
    "module_path = os.getcwd()[:-len('notebook')] + 'my_module'\n",
    "sys.path.append(module_path)\n",
    "\n",
    "#自作モジュールと、モジュールアップデート用\n",
    "#(importlib.reloadをしないとモジュールを書き換えても反映されないため)\n",
    "import importlib\n",
    "import graph_settings\n",
    "import getdfs\n",
    "import sklardietrich\n",
    "import dispgraphs\n",
    "\n",
    "\n",
    "importlib.reload(graph_settings)\n",
    "importlib.reload(getdfs)\n",
    "importlib.reload(sklardietrich)\n",
    "importlib.reload(dispgraphs)"
   ]
  },
  {
   "cell_type": "markdown",
   "metadata": {},
   "source": [
    "# グラフセッティング"
   ]
  },
  {
   "cell_type": "code",
   "execution_count": 60,
   "metadata": {
    "ExecuteTime": {
     "end_time": "2020-02-20T00:49:08.031173Z",
     "start_time": "2020-02-20T00:49:08.021200Z"
    }
   },
   "outputs": [],
   "source": [
    "graph_settings.setsettings()"
   ]
  },
  {
   "cell_type": "markdown",
   "metadata": {},
   "source": [
    "# 初期値等設定"
   ]
  },
  {
   "cell_type": "code",
   "execution_count": 61,
   "metadata": {
    "ExecuteTime": {
     "end_time": "2020-02-20T00:49:08.061092Z",
     "start_time": "2020-02-20T00:49:08.040148Z"
    }
   },
   "outputs": [],
   "source": [
    "#データ保存場所\n",
    "data_path = os.getcwd()[:-len('notebook')] + 'data/'\n",
    "#グラフ保存場所\n",
    "PATH_SAVE_GRAPHS = os.getcwd()[:-len('notebook')] + 'graphs/'\n",
    "\n",
    "# ピット直上ハイドロフォン長さ[m]\n",
    "length_hp_m = 0.275\n",
    "# 5本のハイドロフォンの長さ[m]\n",
    "length_C_m = 0.5\n",
    "#　ピットの開口幅[m]\n",
    "pit_width = 0.2\n",
    "\n",
    "# それぞれの粒径界の対象重量（左から1024倍，512倍，256倍，，，2倍）\n",
    "W_IDEAL = np.array([0.15, 0.22, 0.29, 0.65, 0.91, 1.96, 3.01, 6.91, 10.81, 50])*0.001\n",
    "#　それぞれの粒径界の対象粒径\n",
    "TARGET_TOT = ['-2mm', '3-5mm', '5-6mm', '6-7mm', '7-8.5mm', '8.5-10mm', '10-12.5mm', '12.5-15mm', '15-20mm', '20-30mm', '30mm-']\n",
    "\n",
    "event_marker = ['.', 'x', 'v', '1', 'D']\n",
    "\n",
    "# ハイドロフォンのそれぞれのチャンネルの名前\n",
    "suffix = ['_Tot(1)', '_Tot(2)', '_Tot(3)', '_Tot(4)', '_Tot(5)',\n",
    "            '_Tot(6)', '_Tot(7)', '_Tot(8)', '_Tot(9)', '_Tot(10)']\n",
    "\n",
    "# 直上中央ハイドロフォン\n",
    "names_of_center = ['hp'+ s for s in suffix]\n",
    "# 中央ハイドロフォン\n",
    "names_of_C = ['C'+ s for s in suffix]\n",
    "# 中央右ハイドロフォン\n",
    "names_of_RC = ['RC'+ s for s in suffix]\n",
    "# 中央左ハイドロフォン\n",
    "names_of_LC = ['LC'+ s for s in suffix]\n",
    "# 右ハイドロフォン\n",
    "names_of_R = ['R'+ s for s in suffix]\n",
    "# 左ハイドロフォン\n",
    "names_of_L = ['L'+ s for s in suffix]\n",
    "\n",
    "# 右鉛直ハイドロフォン\n",
    "names_of_VR = ['VR'+ s for s in suffix]\n",
    "# 左鉛直ハイドロフォン\n",
    "names_of_VL = ['VL'+ s for s in suffix]\n",
    "\n",
    "\n",
    "# Corrected直上中央ハイドロフォン\n",
    "names_of_center_Corrected = ['Corrected_hp'+ s for s in suffix]\n",
    "# Corrected中央ハイドロフォン\n",
    "names_of_C_Corrected = ['Corrected_C'+ s for s in suffix]\n",
    "# Corrected中央右ハイドロフォン\n",
    "names_of_RC_Corrected = ['Corrected_RC'+ s for s in suffix]\n",
    "# Corrected中央左ハイドロフォン\n",
    "names_of_LC_Corrected = ['Corrected_LC'+ s for s in suffix]\n",
    "# Corrected右ハイドロフォン\n",
    "names_of_R_Corrected = ['Corrected_R'+ s for s in suffix]\n",
    "# Corrected左ハイドロフォン\n",
    "names_of_L_Corrected = ['Corrected_L'+ s for s in suffix]\n",
    "\n",
    "\n",
    "\n",
    "# スロットナンバーと倍率を対応させる\n",
    "amplification_factor = {'Tot(1)': '1024', 'Tot(2)': '512', 'Tot(3)': '256', 'Tot(4)': '128',\n",
    "                        'Tot(5)': '64', 'Tot(6)': '32', 'Tot(7)': '16', 'Tot(8)': '8',\n",
    "                        'Tot(9)': '4', 'Tot(10)': '2'}\n",
    "\n",
    "meantime=30\n",
    "# UNIT = 'cm'\n",
    "\n",
    "# #ashiaraidani\n",
    "# if UNIT == 'cm':\n",
    "#     ##初期値m, g\n",
    "#     rho = 1 #g/cm3\n",
    "#     grav = 980 #cm/s**2\n",
    "#     ib = 1/20 #? パーセント？角度？\n",
    "#     s = 1.65\n",
    "#     width = 500#m\n",
    "#     sigma_by_rho = 2.65\n",
    "#     rho_s = 2.65 #g/cm**3\n",
    "#     Rb = s #? 砂礫の水中比重\n",
    "#     # W_IDEAL = np.array([0.15, 0.22, 0.29, 0.65, 0.91, 1.96, 3.01, 6.91, 10.81, 50]) #g\n",
    "#     # D_IDEAL = 2*((W_IDEAL/rho_s)*(3/4)*(1/math.pi))**(1/3)\n",
    "\n",
    "#     bump_hp_m = 0.025 * 100 #cm"
   ]
  },
  {
   "cell_type": "markdown",
   "metadata": {},
   "source": [
    "# オリジナルデータインポート"
   ]
  },
  {
   "cell_type": "markdown",
   "metadata": {},
   "source": [
    "現時点で，2019-08-31 23:59:00までのデータがashiaraidani_all.csvに入っています．  \n",
    "これ以降のデータを付け加えるときは，ashiaraidani_all.csvの最後に付け加える形でデータを追加してください．  \n",
    "csvファイルが大きいため，PCの性能によってはエラーがあり開けない場合が多いため，pythonのpandasを使ってデータをconcatすることをおすすめします．（参考：http://sinhrks.hatenablog.com/entry/2015/01/28/073327）  \n",
    "以下に，データのconcatnateの一例を示しておきます．（Ctrl+/でuncommentできます）"
   ]
  },
  {
   "cell_type": "code",
   "execution_count": 62,
   "metadata": {
    "ExecuteTime": {
     "end_time": "2020-02-20T00:49:08.076630Z",
     "start_time": "2020-02-20T00:49:08.064084Z"
    }
   },
   "outputs": [],
   "source": [
    "# ############################\n",
    "# ####データ追加する際の一例\n",
    "# ############################\n",
    "\n",
    "# #ashiaraidani_all.csvを読み込む\n",
    "# # インデックスをTIMESTANPに設定し，時系列データとして読み込む(index_col='TIMESTAMP', parse_dates=True)\n",
    "# df_all = pd.read_csv(data_path + 'ashiaraidani_all.csv',\n",
    "#                           index_col='TIMESTAMP', parse_dates=True)\n",
    "# #付け加えるデータ（test.csvとする）を読み込む\n",
    "# df_test = pd.read_csv(data_path + 'test.csv',\n",
    "#                           index_col='TIMESTAMP', parse_dates=True)\n",
    "\n",
    "# df_concat = pd.concat([df_all, df_test], sort=True)\n",
    "\n",
    "# #cvsファイルとして出力\n",
    "# df_concat.to_csv(\"ashiaraidani_all.csv\")\n",
    "\n",
    "# #保存されたファイルを出力したファイルをdataフォルダに移動する（念のため，古いashiaraidani_all.csvをバックアップしておくべき）"
   ]
  },
  {
   "cell_type": "code",
   "execution_count": 63,
   "metadata": {
    "ExecuteTime": {
     "end_time": "2020-02-20T00:49:08.091012Z",
     "start_time": "2020-02-20T00:49:08.079044Z"
    }
   },
   "outputs": [],
   "source": [
    "# #########################################\n",
    "# ####オリジナルデータのインポート（1分毎）\n",
    "# #########################################\n",
    "def getalloriginal(unit='m'):\n",
    "    '''\n",
    "    オリジナルデータを読み込み，DataFrameで返す．\n",
    "    unitは今はmでしか指定できません．\n",
    "    '''\n",
    "    df_all = pd.read_csv(data_path + 'ashiaraidani_all.csv',\n",
    "                       index_col='TIMESTAMP', parse_dates=True)\n",
    "\n",
    "    #水の単位体積重量を1000 kgf/m3，土砂の単位体積重量を2650 kgf/m3とし質量に変換した\n",
    "    df_all['Load_Avg'] = df_all['Load_Avg']*1.65\n",
    "    #ピット内の差分値をとった特徴量（流砂量）を増やす\n",
    "    df_all['Load_Avg_difference'] = df_all['Load_Avg'].diff()\n",
    "\n",
    "    #もし単位がmであれば，ハイドロフォンデータを長さで割る，ピットデータは開口幅で割る\n",
    "    if unit==\"m\":\n",
    "        #5本のハイドロフォンの名前取得\n",
    "        colnames_of_RRCCLCL = names_of_R + names_of_RC + names_of_C + names_of_LC + names_of_L\n",
    "\n",
    "        df_all[names_of_center] = df_all[names_of_center]/length_hp_m\n",
    "        df_all[colnames_of_RRCCLCL] = df_all[colnames_of_RRCCLCL]/length_C_m\n",
    "        df_all['Load_Avg_difference'] = df_all['Load_Avg_difference']/pit_width       \n",
    "    else:\n",
    "        logger.info('Units are not in the same unit. You have to match units among all data you will use by yourself')\n",
    "\n",
    "        pass\n",
    "\n",
    "    return df_all"
   ]
  },
  {
   "cell_type": "code",
   "execution_count": 64,
   "metadata": {
    "ExecuteTime": {
     "end_time": "2020-02-20T00:49:48.748623Z",
     "start_time": "2020-02-20T00:49:08.094064Z"
    }
   },
   "outputs": [
    {
     "data": {
      "text/plain": [
       "Index(['Bat_Avg', 'C_Tot(1)', 'C_Tot(10)', 'C_Tot(2)', 'C_Tot(3)', 'C_Tot(4)',\n",
       "       'C_Tot(5)', 'C_Tot(6)', 'C_Tot(7)', 'C_Tot(8)',\n",
       "       ...\n",
       "       'outC_Plate_Avg', 'outC_RC_Avg', 'outC_R_Avg', 'outC_T75_Avg',\n",
       "       'outC_VC_Avg', 'outC_VL_Avg', 'outC_VR_Avg', 'turb1000_Avg',\n",
       "       'turb4000_Avg', 'vel_P_Tot'],\n",
       "      dtype='object', length=139)"
      ]
     },
     "execution_count": 64,
     "metadata": {},
     "output_type": "execute_result"
    }
   ],
   "source": [
    "#getalloriginal関数を使ってオリジナルデータインポート\n",
    "df_all = getalloriginal(unit='m')\n",
    "df_all.columns"
   ]
  },
  {
   "cell_type": "markdown",
   "metadata": {
    "ExecuteTime": {
     "end_time": "2020-02-01T14:51:58.380018Z",
     "start_time": "2020-02-01T14:51:58.318186Z"
    }
   },
   "source": [
    "それぞれのデータのグラフを見る  \n",
    "下の，colname（データの名前）を変更すると，グラフを変更できます．  \n",
    "グラフの設定はググればたくさん出てきます．"
   ]
  },
  {
   "cell_type": "code",
   "execution_count": 65,
   "metadata": {
    "ExecuteTime": {
     "end_time": "2020-02-20T00:49:51.965542Z",
     "start_time": "2020-02-20T00:49:48.754666Z"
    }
   },
   "outputs": [
    {
     "data": {
      "text/plain": [
       "Text(0.5, 0, 'xlabel')"
      ]
     },
     "execution_count": 65,
     "metadata": {},
     "output_type": "execute_result"
    },
    {
     "data": {
      "image/png": "[encoded data removed]",
      "text/plain": [
       "<Figure size 1080x360 with 1 Axes>"
      ]
     },
     "metadata": {
      "needs_background": "light"
     },
     "output_type": "display_data"
    }
   ],
   "source": [
    "colname = 'Load_Avg'\n",
    "\n",
    "plt.figure(figsize=(15,5))\n",
    "df_all[colname].plot()\n",
    "plt.ylabel('ylabel')\n",
    "plt.xlabel('xlabel')\n",
    "# plt.ylim(0,5000)\n"
   ]
  },
  {
   "cell_type": "markdown",
   "metadata": {},
   "source": [
    "# 隣合うパルス毎に差分値を算出"
   ]
  },
  {
   "cell_type": "markdown",
   "metadata": {},
   "source": [
    "隣合うパルス数を差分値をとっていく．詳細は修論の第3章を参照．  \n",
    "ここで，ハイドロフォンデータ（番号が10まで連番になっているもの）とピットデータ（Load_Avg, Load_Avg_difference），水深データ(WL_FMR_Avg)，流速データ(vel_P_Tot)のみを抽出する．  \n",
    "他にも使いたいデータがあれば，以下のセルの指定位置に追加する"
   ]
  },
  {
   "cell_type": "code",
   "execution_count": 66,
   "metadata": {
    "ExecuteTime": {
     "end_time": "2020-02-20T00:49:51.990579Z",
     "start_time": "2020-02-20T00:49:51.971488Z"
    }
   },
   "outputs": [],
   "source": [
    "# #########################################\n",
    "# ####隣合うパルス数の差分値とる\n",
    "# #########################################\n",
    "def make_dataframe_diff_of_slots(df):\n",
    "    \"\"\"\n",
    "    （スロット１のデータ）−（スロット２のデータ）、（スロット２のデータ）－（スロット３のデータ）\n",
    "    、、、と，隣り合うパルス数を引き算していく．最後だけ，スロット１０のデータのまま．\n",
    "    columnの名前は，最初のスロットの名前のままにしている\n",
    "    （つまり，hp_Tot(1)-hp_Tot(2)のデータのcolnameを，形式的にhp_Tot(1）のままにしている）\n",
    "    \"\"\"\n",
    "    # name[1]にはスロット１のデータ、name[2]には、スロット２のデータ、name[3]に、、、が入っている\n",
    "    names = [0]*10\n",
    "    for j in range(1, 11):\n",
    "        names[j-1] = [i for i in df.columns if '({})'.format(j) in i]\n",
    "\n",
    "    # （スロット１のデータ）−（スロット２のデータ）、（スロット２のデータ）－（スロット３のデータ）、、、としていき、\n",
    "    # 粒径ごとのデータに分類する\n",
    "    df_dia = [0]*10\n",
    "    for i in range(1, 10):\n",
    "        df_dia[i-1] = df[names[i-1]] - df[names[i]].values\n",
    "#         df_dia[i-1].name = str(df_dia[i-1].name) + '-({})'.format(i)\n",
    "    df_dia[9] = df[names[-1]]\n",
    "\n",
    "    # 全てのデータを繋げる\n",
    "    df_dia_all = pd.DataFrame()\n",
    "    for i in range(1, 10):\n",
    "        df_dia_all = pd.concat([df_dia_all, df_dia[i-1]], axis=1)\n",
    "    df_dia_all = pd.concat([df_dia_all, df_dia[-1]], axis=1)\n",
    "    \n",
    "    ###########################################################\n",
    "    #ハイドロフォンデータ以外で追加したいものがあればここに追加\n",
    "    df_dia_all['Load_Avg'] = df['Load_Avg']\n",
    "    df_dia_all['Load_Avg_difference'] = df['Load_Avg_difference']\n",
    "    df_dia_all['WL_FMR_Avg'] = df['WL_FMR_Avg']\n",
    "    df_dia_all['Velocity(m/s)'] = df['vel_P_Tot']\n",
    "    ###########################################################\n",
    "    \n",
    "    return df_dia_all"
   ]
  },
  {
   "cell_type": "code",
   "execution_count": 67,
   "metadata": {
    "ExecuteTime": {
     "end_time": "2020-02-20T00:50:16.800944Z",
     "start_time": "2020-02-20T00:49:51.995424Z"
    }
   },
   "outputs": [
    {
     "data": {
      "text/plain": [
       "Index(['C_Tot(1)', 'LC_Tot(1)', 'L_Tot(1)', 'Plate_Tot(1)', 'RC_Tot(1)',\n",
       "       'R_Tot(1)', 'T75_Tot(1)', 'VC_Tot(1)', 'VL_Tot(1)', 'VR_Tot(1)',\n",
       "       ...\n",
       "       'R_Tot(10)', 'T75_Tot(10)', 'VC_Tot(10)', 'VL_Tot(10)', 'VR_Tot(10)',\n",
       "       'hp_Tot(10)', 'Load_Avg', 'Load_Avg_difference', 'WL_FMR_Avg',\n",
       "       'Velocity(m/s)'],\n",
       "      dtype='object', length=114)"
      ]
     },
     "execution_count": 67,
     "metadata": {},
     "output_type": "execute_result"
    }
   ],
   "source": [
    "# make_dataframe_diff_of_slots関数を使って差分値をとる\n",
    "df_all_diff = make_dataframe_diff_of_slots(df=df_all)\n",
    "df_all_diff.columns"
   ]
  },
  {
   "cell_type": "markdown",
   "metadata": {},
   "source": [
    "ここで，オリジナルデータは今後たぶんもう使わないので，df_allを削除する"
   ]
  },
  {
   "cell_type": "code",
   "execution_count": 68,
   "metadata": {
    "ExecuteTime": {
     "end_time": "2020-02-20T00:50:16.845184Z",
     "start_time": "2020-02-20T00:50:16.822885Z"
    }
   },
   "outputs": [],
   "source": [
    "del df_all"
   ]
  },
  {
   "cell_type": "markdown",
   "metadata": {},
   "source": [
    "# 訓練データとテストデータを抽出"
   ]
  },
  {
   "cell_type": "markdown",
   "metadata": {},
   "source": [
    "訓練データにとして，厳選された箇所をtraindata.csvに追加する．\n",
    "同じく，テストデータとして，厳選したイベントをtestdata.csvに追加する\n",
    "その後下のセルを実行しデータをインポートする．"
   ]
  },
  {
   "cell_type": "code",
   "execution_count": 69,
   "metadata": {
    "ExecuteTime": {
     "end_time": "2020-02-20T00:50:17.356455Z",
     "start_time": "2020-02-20T00:50:16.851808Z"
    }
   },
   "outputs": [],
   "source": [
    "df_traindate = pd.read_csv(data_path + 'traindata.csv')\n",
    "df_traindate['starttime'] = pd.to_datetime(df_traindate['starttime'])\n",
    "df_traindate['endtime'] = pd.to_datetime(df_traindate['endtime'])\n",
    "\n",
    "df_testdate = pd.read_csv(data_path + 'testdata.csv')\n",
    "df_testdate['starttime'] = pd.to_datetime(df_testdate['starttime'])\n",
    "df_testdate['endtime'] = pd.to_datetime(df_testdate['endtime'])"
   ]
  },
  {
   "cell_type": "markdown",
   "metadata": {},
   "source": [
    "訓練データとテストデータを確認"
   ]
  },
  {
   "cell_type": "code",
   "execution_count": 70,
   "metadata": {
    "ExecuteTime": {
     "end_time": "2020-02-20T00:50:17.625840Z",
     "start_time": "2020-02-20T00:50:17.364990Z"
    }
   },
   "outputs": [
    {
     "data": {
      "text/html": [
       "<div>\n",
       "<style scoped>\n",
       "    .dataframe tbody tr th:only-of-type {\n",
       "        vertical-align: middle;\n",
       "    }\n",
       "\n",
       "    .dataframe tbody tr th {\n",
       "        vertical-align: top;\n",
       "    }\n",
       "\n",
       "    .dataframe thead th {\n",
       "        text-align: right;\n",
       "    }\n",
       "</style>\n",
       "<table border=\"1\" class=\"dataframe\">\n",
       "  <thead>\n",
       "    <tr style=\"text-align: right;\">\n",
       "      <th></th>\n",
       "      <th>starttime</th>\n",
       "      <th>endtime</th>\n",
       "    </tr>\n",
       "  </thead>\n",
       "  <tbody>\n",
       "    <tr>\n",
       "      <th>0</th>\n",
       "      <td>2016-06-25 00:00:00</td>\n",
       "      <td>2016-06-25 12:00:00</td>\n",
       "    </tr>\n",
       "    <tr>\n",
       "      <th>1</th>\n",
       "      <td>2016-07-05 00:00:00</td>\n",
       "      <td>2016-07-16 00:00:00</td>\n",
       "    </tr>\n",
       "    <tr>\n",
       "      <th>2</th>\n",
       "      <td>2016-07-31 00:00:00</td>\n",
       "      <td>2016-08-03 00:00:00</td>\n",
       "    </tr>\n",
       "    <tr>\n",
       "      <th>3</th>\n",
       "      <td>2016-08-08 00:00:00</td>\n",
       "      <td>2016-09-01 00:00:00</td>\n",
       "    </tr>\n",
       "    <tr>\n",
       "      <th>4</th>\n",
       "      <td>2016-10-03 00:00:00</td>\n",
       "      <td>2016-10-31 00:00:00</td>\n",
       "    </tr>\n",
       "    <tr>\n",
       "      <th>5</th>\n",
       "      <td>2017-07-01 00:00:00</td>\n",
       "      <td>2017-07-02 18:00:00</td>\n",
       "    </tr>\n",
       "    <tr>\n",
       "      <th>6</th>\n",
       "      <td>2017-07-10 00:00:00</td>\n",
       "      <td>2017-08-15 00:00:00</td>\n",
       "    </tr>\n",
       "    <tr>\n",
       "      <th>7</th>\n",
       "      <td>2018-09-08 00:00:00</td>\n",
       "      <td>2018-09-08 08:00:00</td>\n",
       "    </tr>\n",
       "    <tr>\n",
       "      <th>8</th>\n",
       "      <td>2018-09-30 21:00:00</td>\n",
       "      <td>2018-10-01 06:00:00</td>\n",
       "    </tr>\n",
       "    <tr>\n",
       "      <th>9</th>\n",
       "      <td>2019-06-30 06:00:00</td>\n",
       "      <td>2019-06-30 11:00:00</td>\n",
       "    </tr>\n",
       "    <tr>\n",
       "      <th>10</th>\n",
       "      <td>2019-08-23 06:00:00</td>\n",
       "      <td>2019-08-23 12:00:00</td>\n",
       "    </tr>\n",
       "  </tbody>\n",
       "</table>\n",
       "</div>"
      ],
      "text/plain": [
       "             starttime             endtime\n",
       "0  2016-06-25 00:00:00 2016-06-25 12:00:00\n",
       "1  2016-07-05 00:00:00 2016-07-16 00:00:00\n",
       "2  2016-07-31 00:00:00 2016-08-03 00:00:00\n",
       "3  2016-08-08 00:00:00 2016-09-01 00:00:00\n",
       "4  2016-10-03 00:00:00 2016-10-31 00:00:00\n",
       "5  2017-07-01 00:00:00 2017-07-02 18:00:00\n",
       "6  2017-07-10 00:00:00 2017-08-15 00:00:00\n",
       "7  2018-09-08 00:00:00 2018-09-08 08:00:00\n",
       "8  2018-09-30 21:00:00 2018-10-01 06:00:00\n",
       "9  2019-06-30 06:00:00 2019-06-30 11:00:00\n",
       "10 2019-08-23 06:00:00 2019-08-23 12:00:00"
      ]
     },
     "metadata": {},
     "output_type": "display_data"
    },
    {
     "name": "stdout",
     "output_type": "stream",
     "text": [
      "Date Of Train Data\n"
     ]
    },
    {
     "data": {
      "text/html": [
       "<div>\n",
       "<style scoped>\n",
       "    .dataframe tbody tr th:only-of-type {\n",
       "        vertical-align: middle;\n",
       "    }\n",
       "\n",
       "    .dataframe tbody tr th {\n",
       "        vertical-align: top;\n",
       "    }\n",
       "\n",
       "    .dataframe thead th {\n",
       "        text-align: right;\n",
       "    }\n",
       "</style>\n",
       "<table border=\"1\" class=\"dataframe\">\n",
       "  <thead>\n",
       "    <tr style=\"text-align: right;\">\n",
       "      <th></th>\n",
       "      <th>starttime</th>\n",
       "      <th>endtime</th>\n",
       "    </tr>\n",
       "  </thead>\n",
       "  <tbody>\n",
       "    <tr>\n",
       "      <th>0</th>\n",
       "      <td>2017-09-22</td>\n",
       "      <td>2017-09-28</td>\n",
       "    </tr>\n",
       "    <tr>\n",
       "      <th>1</th>\n",
       "      <td>2018-04-15</td>\n",
       "      <td>2018-04-16</td>\n",
       "    </tr>\n",
       "  </tbody>\n",
       "</table>\n",
       "</div>"
      ],
      "text/plain": [
       "   starttime    endtime\n",
       "0 2017-09-22 2017-09-28\n",
       "1 2018-04-15 2018-04-16"
      ]
     },
     "metadata": {},
     "output_type": "display_data"
    },
    {
     "name": "stdout",
     "output_type": "stream",
     "text": [
      "Date Of Test Data\n"
     ]
    }
   ],
   "source": [
    "display(df_traindate)\n",
    "print('Date Of Train Data')\n",
    "\n",
    "display(df_testdate)\n",
    "print('Date Of Test Data')\n"
   ]
  },
  {
   "cell_type": "markdown",
   "metadata": {},
   "source": [
    "rainとtestの期間のdfデータをlistに格納する．"
   ]
  },
  {
   "cell_type": "code",
   "execution_count": 71,
   "metadata": {
    "ExecuteTime": {
     "end_time": "2020-02-20T00:50:18.156422Z",
     "start_time": "2020-02-20T00:50:17.631821Z"
    }
   },
   "outputs": [],
   "source": [
    "#train_dateとtest_dateをリストに格納する\n",
    "list_traindate = df_traindate.astype(str).values.tolist()\n",
    "list_testdate = df_testdate.astype(str).values.tolist()\n",
    "\n",
    "#trainとtestの期間のdfデータをlistに格納\n",
    "list_df_train = []\n",
    "for traindate in list_traindate:\n",
    "    start_train = traindate[0]\n",
    "    end_train = traindate[1]\n",
    "    list_df_train.append(df_all_diff[start_train:end_train]) \n",
    "    \n",
    "list_df_test = []\n",
    "for testdate in list_testdate:\n",
    "    start_test = testdate[0]\n",
    "    end_test = testdate[1]\n",
    "    list_df_test.append(df_all_diff[start_test:end_test])\n"
   ]
  },
  {
   "cell_type": "markdown",
   "metadata": {},
   "source": [
    "ピット内データをグラフ表示（赤がTrain，黄色がTest）"
   ]
  },
  {
   "cell_type": "code",
   "execution_count": 72,
   "metadata": {
    "ExecuteTime": {
     "end_time": "2020-02-20T00:50:23.281771Z",
     "start_time": "2020-02-20T00:50:18.161405Z"
    },
    "scrolled": true
   },
   "outputs": [
    {
     "data": {
      "image/png": "[encoded data removed]",
      "text/plain": [
       "<Figure size 1080x360 with 1 Axes>"
      ]
     },
     "metadata": {
      "needs_background": "light"
     },
     "output_type": "display_data"
    }
   ],
   "source": [
    "# trainのピット内増減を表示\n",
    "colname = 'Load_Avg'\n",
    "plt.figure(figsize=(15,5))\n",
    "df_all_diff[colname].plot()\n",
    "plt.ylabel('Pit weight [kg m$^{-1}$]')\n",
    "plt.xlabel('')\n",
    "for df_train in list_df_train:\n",
    "    df_train[colname].plot(c='r')\n",
    "for df_test in list_df_test:\n",
    "    df_test[colname].plot(c='y')\n",
    "\n",
    "plt.show()"
   ]
  },
  {
   "cell_type": "markdown",
   "metadata": {},
   "source": [
    "# ピット捕捉率が不安定な部分カット"
   ]
  },
  {
   "cell_type": "markdown",
   "metadata": {},
   "source": [
    "上のTrain，testデータの期間中，ピットの捕捉率が不安定な時期（水中重量1000 kgf以上200 kgf以下）の期間が含まれているので，それを削除し，ピットが正常に作動してるデータのみを抜粋する．以下，修論から条件抜粋\n",
    "\n",
    "（累積量が水中重量1000 kgfを超えると，水の流れなどの影響を受けて一度ピット内に流入した土砂粒子が，再度流出してしまう傾向が顕著になることが確認されている．そのため，本研究では有意なデータとして考えられる水中重量1000 kgf（1606.1 kg）以下の計測値のみを使用した．また，ピット内に累積された流砂が少ない時は，流砂量変化が小さい期間が多くを占めており，データの精度が比較的低いことが認められたため，有意なデータと考えられる水中重量200 kgf（質量312.1 kg）以上のデータを使用した．）"
   ]
  },
  {
   "cell_type": "code",
   "execution_count": 73,
   "metadata": {
    "ExecuteTime": {
     "end_time": "2020-02-20T00:50:23.295123Z",
     "start_time": "2020-02-20T00:50:23.285152Z"
    }
   },
   "outputs": [],
   "source": [
    "def drop_untrusted_pit_data(df, min_pit, max_pit):\n",
    "    \"\"\"\n",
    "    Load_Avg(ピット内)がmin_pit[kg]以上max_pit[kg]以下のデータのみを抽出\n",
    "    注意：単位はkg\n",
    "    \"\"\"\n",
    "    \n",
    "    df_dropped = df[(df['Load_Avg'] > min_pit)&(df['Load_Avg'] < max_pit)]\n",
    "    return df_dropped\n"
   ]
  },
  {
   "cell_type": "markdown",
   "metadata": {},
   "source": [
    "関数drop_untrusted_pit_dataを用いてtrainデータをtestデータそれぞれカットアウト"
   ]
  },
  {
   "cell_type": "code",
   "execution_count": 74,
   "metadata": {
    "ExecuteTime": {
     "end_time": "2020-02-20T00:50:23.462676Z",
     "start_time": "2020-02-20T00:50:23.299440Z"
    }
   },
   "outputs": [],
   "source": [
    "for i, df_train in enumerate(list_df_train):\n",
    "    list_df_train[i] = drop_untrusted_pit_data(df_train, min_pit=321.1, max_pit=1606.1)\n",
    "    \n",
    "for i, df_test in enumerate(list_df_test):\n",
    "    list_df_test[i] = drop_untrusted_pit_data(df_test, min_pit=321.1, max_pit=1606.1)"
   ]
  },
  {
   "cell_type": "markdown",
   "metadata": {
    "ExecuteTime": {
     "end_time": "2020-02-01T05:53:53.273958Z",
     "start_time": "2020-02-01T05:53:53.015837Z"
    }
   },
   "source": [
    "ピットの捕捉率が安定する部分のみを抽出した後のグラフ  \n",
    "前のグラフと比べて，赤部分がカットされているのが分かる．"
   ]
  },
  {
   "cell_type": "code",
   "execution_count": 75,
   "metadata": {
    "ExecuteTime": {
     "end_time": "2020-02-20T00:50:26.704060Z",
     "start_time": "2020-02-20T00:50:23.467663Z"
    }
   },
   "outputs": [
    {
     "data": {
      "image/png": "[encoded data removed]",
      "text/plain": [
       "<Figure size 1080x360 with 1 Axes>"
      ]
     },
     "metadata": {
      "needs_background": "light"
     },
     "output_type": "display_data"
    }
   ],
   "source": [
    "# trainのピット内増減を表示\n",
    "colname = 'Load_Avg'\n",
    "plt.figure(figsize=(15,5))\n",
    "df_all_diff[colname].plot()\n",
    "plt.ylabel('Pit weight [kg m$^{-1}$]')\n",
    "plt.xlabel('')\n",
    "for df_train in list_df_train:\n",
    "    df_train[colname].plot(c='r')\n",
    "for df_test in list_df_test:\n",
    "    df_test[colname].plot(c='y')\n",
    "\n",
    "plt.show()"
   ]
  },
  {
   "cell_type": "markdown",
   "metadata": {},
   "source": [
    "ここで，各イベントの詳細が見れるようにする．  \n",
    "以下のコードで，colnameに見たいデータ，eventnoにイベントナンバー(0から順に)を入力するとグラフが切り替わる"
   ]
  },
  {
   "cell_type": "code",
   "execution_count": 76,
   "metadata": {
    "ExecuteTime": {
     "end_time": "2020-02-20T00:50:27.112974Z",
     "start_time": "2020-02-20T00:50:26.709048Z"
    }
   },
   "outputs": [
    {
     "data": {
      "image/png": "[encoded data removed]",
      "text/plain": [
       "<Figure size 1080x360 with 1 Axes>"
      ]
     },
     "metadata": {
      "needs_background": "light"
     },
     "output_type": "display_data"
    }
   ],
   "source": [
    "# trainのピット内増減を表示\n",
    "#(Load_Avgを変えるとピット増減以外も見れる)\n",
    "#####################\n",
    "colname = 'Load_Avg'\n",
    "eventno = 0\n",
    "#####################\n",
    "\n",
    "plt.figure(figsize=(15,5))\n",
    "list_df_train[eventno][colname].plot(c='r')\n",
    "plt.ylabel('Pit weight [kg m$^{-1}$]')\n",
    "plt.xlabel('')\n",
    "\n",
    "plt.show()"
   ]
  },
  {
   "cell_type": "code",
   "execution_count": 77,
   "metadata": {
    "ExecuteTime": {
     "end_time": "2020-02-20T00:50:27.506908Z",
     "start_time": "2020-02-20T00:50:27.118004Z"
    }
   },
   "outputs": [
    {
     "data": {
      "image/png": "[encoded data removed]",
      "text/plain": [
       "<Figure size 1080x360 with 1 Axes>"
      ]
     },
     "metadata": {
      "needs_background": "light"
     },
     "output_type": "display_data"
    }
   ],
   "source": [
    "# testのピット内増減を表示\n",
    "#(Load_Avgを変えるとピット増減以外も見れる)\n",
    "#####################\n",
    "colname = 'Load_Avg'\n",
    "eventno = 0\n",
    "#####################\n",
    "\n",
    "plt.figure(figsize=(15,5))\n",
    "list_df_test[eventno][colname].plot(c='y')\n",
    "plt.ylabel('Pit weight [kg m$^{-1}$]')\n",
    "plt.xlabel('')\n",
    "\n",
    "plt.show()"
   ]
  },
  {
   "cell_type": "markdown",
   "metadata": {},
   "source": [
    "# 30分毎に平均をとる"
   ]
  },
  {
   "cell_type": "markdown",
   "metadata": {},
   "source": [
    "データのばらつきを少なくするため，30分毎に平均をとった．（単純にデータ数は1/30になる）  \n",
    "meantimeの数字を変えれば平均時間を変えれる"
   ]
  },
  {
   "cell_type": "code",
   "execution_count": 78,
   "metadata": {
    "ExecuteTime": {
     "end_time": "2020-02-20T00:50:27.523891Z",
     "start_time": "2020-02-20T00:50:27.511895Z"
    }
   },
   "outputs": [],
   "source": [
    "def mean_of_df(df, meantime=30):\n",
    "    \"\"\"\n",
    "    dfを30分間隔平均にする。\n",
    "    'Load_Avg'は平均間隔にするとおかしくなるのでしない\n",
    "    他にも平均にするとおかしいデータがあるはず？\n",
    "    少なくともハイドロフォンデータは大丈夫だからそのまま行きます\n",
    "    \"\"\"\n",
    "    sum_interval = meantime\n",
    "    df_mean = df.resample('{}T'.format(sum_interval)).sum() / sum_interval\n",
    "    df_mean['Load_Avg'] = df['Load_Avg']\n",
    "#     df_mean['Load_Avg_difference'] = df['Load_Avg_difference'].resample(\n",
    "#         '{}T'.format(sum_interval)).sum() / sum_interval\n",
    "    \n",
    "    return df_mean"
   ]
  },
  {
   "cell_type": "markdown",
   "metadata": {},
   "source": [
    "mean_of_dfで抽出した訓練データとテストデータを30分平均にする"
   ]
  },
  {
   "cell_type": "code",
   "execution_count": 79,
   "metadata": {
    "ExecuteTime": {
     "end_time": "2020-02-20T00:50:28.580063Z",
     "start_time": "2020-02-20T00:50:27.527904Z"
    }
   },
   "outputs": [],
   "source": [
    "#30分平均したデータをリストに格納\n",
    "list_df_train_mean = []\n",
    "list_df_test_mean = []\n",
    "for df_train in list_df_train:\n",
    "    list_df_train_mean.append(mean_of_df(df_train, meantime=meantime))\n",
    "for df_test in list_df_test:\n",
    "    list_df_test_mean.append(mean_of_df(df_test, meantime=meantime))"
   ]
  },
  {
   "cell_type": "markdown",
   "metadata": {},
   "source": [
    "ここで，30分毎の平均したデータを見てみると，データ数が単純に1/30になったため，イベントによってはデータ数が3つしかないようなときもあり，グラフがカクカクすることが確認できる．"
   ]
  },
  {
   "cell_type": "code",
   "execution_count": 80,
   "metadata": {
    "ExecuteTime": {
     "end_time": "2020-02-20T00:50:28.998166Z",
     "start_time": "2020-02-20T00:50:28.583893Z"
    },
    "scrolled": true
   },
   "outputs": [
    {
     "data": {
      "image/png": "[encoded data removed]",
      "text/plain": [
       "<Figure size 1080x360 with 1 Axes>"
      ]
     },
     "metadata": {
      "needs_background": "light"
     },
     "output_type": "display_data"
    }
   ],
   "source": [
    "# trainのピット内増減を表示\n",
    "#(Load_Avgを変えるとピット増減以外も見れる)\n",
    "#####################\n",
    "colname = 'Load_Avg'\n",
    "eventno = 0\n",
    "#####################\n",
    "\n",
    "plt.figure(figsize=(15,5))\n",
    "list_df_train_mean[eventno][colname].plot(c='r')\n",
    "plt.ylabel('Pit weight [kg m$^{-1}$]')\n",
    "plt.xlabel('')\n",
    "\n",
    "plt.show()"
   ]
  },
  {
   "cell_type": "markdown",
   "metadata": {},
   "source": [
    "# データ選択"
   ]
  },
  {
   "cell_type": "markdown",
   "metadata": {},
   "source": [
    "ここで，ピット直上にあるハイドロフォンデータの名前は，names_of_centerに入っている．  \n",
    "その上の5本のハイドロフォンデータの名前は，names_of_C,names_of_RC,names_of_R,names_of_L,names_of_LCに入っている．\n"
   ]
  },
  {
   "cell_type": "code",
   "execution_count": 81,
   "metadata": {
    "ExecuteTime": {
     "end_time": "2020-02-20T00:50:29.043050Z",
     "start_time": "2020-02-20T00:50:29.036065Z"
    }
   },
   "outputs": [
    {
     "name": "stdout",
     "output_type": "stream",
     "text": [
      "例：ピット直上ハイドロフォン ['hp_Tot(1)', 'hp_Tot(2)', 'hp_Tot(3)', 'hp_Tot(4)', 'hp_Tot(5)', 'hp_Tot(6)', 'hp_Tot(7)', 'hp_Tot(8)', 'hp_Tot(9)', 'hp_Tot(10)']\n",
      "例：5本の中央ハイドロフォン ['C_Tot(1)', 'C_Tot(2)', 'C_Tot(3)', 'C_Tot(4)', 'C_Tot(5)', 'C_Tot(6)', 'C_Tot(7)', 'C_Tot(8)', 'C_Tot(9)', 'C_Tot(10)']\n"
     ]
    }
   ],
   "source": [
    "print('例：ピット直上ハイドロフォン', names_of_center)\n",
    "print('例：5本の中央ハイドロフォン', names_of_C)"
   ]
  },
  {
   "cell_type": "markdown",
   "metadata": {},
   "source": [
    "'hp_Tot(1)'：1024倍-512倍,'hp_Tot(2)'：312倍-256倍, 'hp_Tot(3)'：256-128, 'hp_Tot(4)'：128-64, 'hp_Tot(5)'：64-32, 'hp_Tot(6)'：32-16, 'hp_Tot(7)'：16-8, 'hp_Tot(8)'：8-4, 'hp_Tot(9)'：4-2, 'hp_Tot(10)'：2倍"
   ]
  },
  {
   "cell_type": "markdown",
   "metadata": {},
   "source": [
    "今回，中央ハイドロフォンデータとピットデータを使って，修論3章におけるC,βを算出するので，names_of_centerのデータ，ピットデータ，水深データのみを使う"
   ]
  },
  {
   "cell_type": "code",
   "execution_count": 82,
   "metadata": {
    "ExecuteTime": {
     "end_time": "2020-02-20T00:50:29.067034Z",
     "start_time": "2020-02-20T00:50:29.053124Z"
    }
   },
   "outputs": [
    {
     "name": "stdout",
     "output_type": "stream",
     "text": [
      "今回使うデータ ['hp_Tot(1)', 'hp_Tot(2)', 'hp_Tot(3)', 'hp_Tot(4)', 'hp_Tot(5)', 'hp_Tot(6)', 'hp_Tot(7)', 'hp_Tot(8)', 'hp_Tot(9)', 'hp_Tot(10)', 'Load_Avg', 'Load_Avg_difference', 'WL_FMR_Avg']\n"
     ]
    }
   ],
   "source": [
    "coluses = names_of_center + ['Load_Avg', 'Load_Avg_difference', 'WL_FMR_Avg']\n",
    "print('今回使うデータ', coluses)"
   ]
  },
  {
   "cell_type": "markdown",
   "metadata": {},
   "source": [
    "ただし，今回は修論で言うところのf(Nr)=1とするため，飽和する増幅率を使わなかった．以下に，縦軸にハイドロフォンデータ，横軸にピットデータをとった散布図を示します．  \n",
    "\n",
    "改めて，このグラフにおけるcolnameの対応は，  \n",
    "'hp_Tot(1)'：1024倍-512倍,'hp_Tot(2)'：312倍-256倍, 'hp_Tot(3)'：256-128, 'hp_Tot(4)'：128-64, 'hp_Tot(5)'：64-32, 'hp_Tot(6)'：32-16, 'hp_Tot(7)'：16-8, 'hp_Tot(8)'：8-4, 'hp_Tot(9)'：4-2, 'hp_Tot(10)'：2倍  \n",
    "です"
   ]
  },
  {
   "cell_type": "code",
   "execution_count": 83,
   "metadata": {
    "ExecuteTime": {
     "end_time": "2020-02-20T00:50:29.093907Z",
     "start_time": "2020-02-20T00:50:29.069971Z"
    }
   },
   "outputs": [],
   "source": [
    "#下のグラフのために一旦list_df_train_meanとlist_df_test_meanを繋げる\n",
    "df_train_mean = pd.concat(list_df_train_mean)\n",
    "df_test_mean = pd.concat(list_df_test_mean)\n",
    "df_events_mean = pd.concat([df_train_mean, df_test_mean])"
   ]
  },
  {
   "cell_type": "code",
   "execution_count": 84,
   "metadata": {
    "ExecuteTime": {
     "end_time": "2020-02-20T00:50:29.165714Z",
     "start_time": "2020-02-20T00:50:29.096900Z"
    }
   },
   "outputs": [
    {
     "data": {
      "text/plain": [
       "[                     C_Tot(1)  LC_Tot(1)  L_Tot(1)  Plate_Tot(1)  RC_Tot(1)  \\\n",
       " TIMESTAMP                                                                     \n",
       " 2017-09-22 00:00:00       0.0        0.0       0.0           0.0        0.0   \n",
       " 2017-09-22 00:30:00       0.0        0.0       0.0           0.0        0.0   \n",
       " 2017-09-22 01:00:00       0.0        0.0       0.0           0.0        0.0   \n",
       " 2017-09-22 01:30:00       0.0        0.0       0.0           0.0        0.0   \n",
       " 2017-09-22 02:00:00       0.0        0.0       0.0           0.0        0.0   \n",
       " ...                       ...        ...       ...           ...        ...   \n",
       " 2017-09-26 06:00:00       0.0        0.0       0.0           0.0        0.0   \n",
       " 2017-09-26 06:30:00       0.0        0.0       0.0           0.0        0.0   \n",
       " 2017-09-26 07:00:00       0.0        0.0       0.0           0.0        0.0   \n",
       " 2017-09-26 07:30:00       0.0        0.0       0.0           0.0        0.0   \n",
       " 2017-09-26 08:00:00       0.0        0.0       0.0           0.0        0.0   \n",
       " \n",
       "                      R_Tot(1)  T75_Tot(1)  VC_Tot(1)  VL_Tot(1)  VR_Tot(1)  \\\n",
       " TIMESTAMP                                                                    \n",
       " 2017-09-22 00:00:00       0.0         0.0        0.0        0.0        0.0   \n",
       " 2017-09-22 00:30:00       0.0         0.0        0.0        0.0        0.0   \n",
       " 2017-09-22 01:00:00       0.0         0.0        0.0        0.0        0.0   \n",
       " 2017-09-22 01:30:00       0.0         0.0        0.0        0.0        0.0   \n",
       " 2017-09-22 02:00:00       0.0         0.0        0.0        0.0        0.0   \n",
       " ...                       ...         ...        ...        ...        ...   \n",
       " 2017-09-26 06:00:00       0.0         0.0        0.0        0.0        0.0   \n",
       " 2017-09-26 06:30:00       0.0         0.0        0.0        0.0        0.0   \n",
       " 2017-09-26 07:00:00       0.0         0.0        0.0        0.0        0.0   \n",
       " 2017-09-26 07:30:00       0.0         0.0        0.0        0.0        0.0   \n",
       " 2017-09-26 08:00:00       0.0         0.0        0.0        0.0        0.0   \n",
       " \n",
       "                      ...  R_Tot(10)  T75_Tot(10)  VC_Tot(10)  VL_Tot(10)  \\\n",
       " TIMESTAMP            ...                                                   \n",
       " 2017-09-22 00:00:00  ...        0.0          0.0         0.0         0.0   \n",
       " 2017-09-22 00:30:00  ...        0.0          0.0         0.0         0.0   \n",
       " 2017-09-22 01:00:00  ...        0.0          0.0         0.0         0.0   \n",
       " 2017-09-22 01:30:00  ...        0.0          0.0         0.0         0.0   \n",
       " 2017-09-22 02:00:00  ...        0.0          0.0         0.0         0.0   \n",
       " ...                  ...        ...          ...         ...         ...   \n",
       " 2017-09-26 06:00:00  ...        0.0          0.0         0.0         0.0   \n",
       " 2017-09-26 06:30:00  ...        0.0          0.0         0.0         0.0   \n",
       " 2017-09-26 07:00:00  ...        0.0          0.0         0.0         0.0   \n",
       " 2017-09-26 07:30:00  ...        0.0          0.0         0.0         0.0   \n",
       " 2017-09-26 08:00:00  ...        0.0          0.0         0.0         0.0   \n",
       " \n",
       "                      VR_Tot(10)  hp_Tot(10)  Load_Avg  Load_Avg_difference  \\\n",
       " TIMESTAMP                                                                    \n",
       " 2017-09-22 00:00:00         0.0         0.0   533.610         1.100000e-01   \n",
       " 2017-09-22 00:30:00         0.0         0.0   533.115        -3.850000e-01   \n",
       " 2017-09-22 01:00:00         0.0         0.0   532.950         4.125000e-01   \n",
       " 2017-09-22 01:30:00         0.0         0.0   532.785        -3.025000e-01   \n",
       " 2017-09-22 02:00:00         0.0         0.0   534.930         5.500000e-01   \n",
       " ...                         ...         ...       ...                  ...   \n",
       " 2017-09-26 06:00:00         0.0         0.0  1602.150        -3.789561e-14   \n",
       " 2017-09-26 06:30:00         0.0         0.0       NaN        -1.100000e+00   \n",
       " 2017-09-26 07:00:00         0.0         0.0  1603.800        -1.650000e+00   \n",
       " 2017-09-26 07:30:00         0.0         0.0       NaN        -1.925000e+00   \n",
       " 2017-09-26 08:00:00         0.0         0.0       NaN        -1.650000e+00   \n",
       " \n",
       "                      WL_FMR_Avg  Velocity(m/s)  \n",
       " TIMESTAMP                                       \n",
       " 2017-09-22 00:00:00    4.179033       1.920267  \n",
       " 2017-09-22 00:30:00    4.186900       1.918500  \n",
       " 2017-09-22 01:00:00    4.140133       1.914967  \n",
       " 2017-09-22 01:30:00    4.113533       1.918967  \n",
       " 2017-09-22 02:00:00    4.108700       1.914967  \n",
       " ...                         ...            ...  \n",
       " 2017-09-26 06:00:00    3.620267       1.826533  \n",
       " 2017-09-26 06:30:00    3.488300       1.762133  \n",
       " 2017-09-26 07:00:00    2.421200       1.218600  \n",
       " 2017-09-26 07:30:00    2.820000       1.421300  \n",
       " 2017-09-26 08:00:00    0.809100       0.407167  \n",
       " \n",
       " [209 rows x 114 columns],\n",
       "                       C_Tot(1)   LC_Tot(1)    L_Tot(1)  Plate_Tot(1)  \\\n",
       " TIMESTAMP                                                              \n",
       " 2018-04-15 00:00:00  27.800000  265.666667  171.066667      9.700000   \n",
       " 2018-04-15 00:30:00  24.133333  276.133333  170.066667     14.366667   \n",
       " 2018-04-15 01:00:00  26.600000  276.733333  171.266667     18.766667   \n",
       " 2018-04-15 01:30:00  27.600000  279.733333  178.400000     23.466667   \n",
       " 2018-04-15 02:00:00  32.466667  300.733333  177.666667     12.233333   \n",
       " ...                        ...         ...         ...           ...   \n",
       " 2018-04-16 21:30:00  44.133333  332.733333  205.133333      4.466667   \n",
       " 2018-04-16 22:00:00  44.600000  327.933333  211.600000      4.966667   \n",
       " 2018-04-16 22:30:00  45.933333  323.066667  216.600000      5.700000   \n",
       " 2018-04-16 23:00:00  49.400000  322.000000  216.466667      7.833333   \n",
       " 2018-04-16 23:30:00  42.466667  326.866667  215.000000      5.266667   \n",
       " \n",
       "                      RC_Tot(1)   R_Tot(1)  T75_Tot(1)   VC_Tot(1)  VL_Tot(1)  \\\n",
       " TIMESTAMP                                                                      \n",
       " 2018-04-15 00:00:00   2.466667  39.866667   88.333333    8.100000  46.766667   \n",
       " 2018-04-15 00:30:00   2.600000  41.533333   86.733333    6.666667  48.833333   \n",
       " 2018-04-15 01:00:00   2.733333  43.600000  134.500000   10.133333  47.233333   \n",
       " 2018-04-15 01:30:00   2.866667  44.600000  105.433333   11.466667  49.666667   \n",
       " 2018-04-15 02:00:00   4.400000  45.266667   99.466667   10.966667  52.633333   \n",
       " ...                        ...        ...         ...         ...        ...   \n",
       " 2018-04-16 21:30:00   3.666667  57.066667   61.200000  110.833333  69.366667   \n",
       " 2018-04-16 22:00:00   5.466667  60.733333   58.666667   87.800000  69.066667   \n",
       " 2018-04-16 22:30:00   5.000000  62.333333   60.733333   96.000000  69.766667   \n",
       " 2018-04-16 23:00:00   7.533333  65.000000   64.766667  108.800000  69.266667   \n",
       " 2018-04-16 23:30:00   5.733333  60.266667   59.966667  107.766667  69.766667   \n",
       " \n",
       "                      VR_Tot(1)  ...  R_Tot(10)  T75_Tot(10)  VC_Tot(10)  \\\n",
       " TIMESTAMP                       ...                                       \n",
       " 2018-04-15 00:00:00   3.800000  ...        0.0          0.0    0.000000   \n",
       " 2018-04-15 00:30:00   3.866667  ...        0.0          0.0    0.000000   \n",
       " 2018-04-15 01:00:00   5.733333  ...        0.0          0.0    0.000000   \n",
       " 2018-04-15 01:30:00   7.566667  ...        0.0          0.0    0.000000   \n",
       " 2018-04-15 02:00:00  10.866667  ...        0.0          0.0    0.000000   \n",
       " ...                        ...  ...        ...          ...         ...   \n",
       " 2018-04-16 21:30:00   7.966667  ...        0.0          0.0    0.000000   \n",
       " 2018-04-16 22:00:00  10.333333  ...        0.0          0.0    0.000000   \n",
       " 2018-04-16 22:30:00  12.233333  ...        0.0          0.0    0.033333   \n",
       " 2018-04-16 23:00:00  15.533333  ...        0.0          0.0    0.000000   \n",
       " 2018-04-16 23:30:00  11.100000  ...        0.0          0.0    0.033333   \n",
       " \n",
       "                      VL_Tot(10)  VR_Tot(10)  hp_Tot(10)  Load_Avg  \\\n",
       " TIMESTAMP                                                           \n",
       " 2018-04-15 00:00:00         0.0         0.0    0.000000   670.230   \n",
       " 2018-04-15 00:30:00         0.0         0.0    0.000000   672.210   \n",
       " 2018-04-15 01:00:00         0.0         0.0    0.000000   675.840   \n",
       " 2018-04-15 01:30:00         0.0         0.0    0.000000   665.445   \n",
       " 2018-04-15 02:00:00         0.0         0.0    0.000000   668.250   \n",
       " ...                         ...         ...         ...       ...   \n",
       " 2018-04-16 21:30:00         0.0         0.0    0.000000  1551.000   \n",
       " 2018-04-16 22:00:00         0.0         0.0    0.242424  1552.650   \n",
       " 2018-04-16 22:30:00         0.0         0.0    0.363636  1554.300   \n",
       " 2018-04-16 23:00:00         0.0         0.0    0.242424  1552.650   \n",
       " 2018-04-16 23:30:00         0.0         0.0    0.242424  1555.950   \n",
       " \n",
       "                      Load_Avg_difference  WL_FMR_Avg  Velocity(m/s)  \n",
       " TIMESTAMP                                                            \n",
       " 2018-04-15 00:00:00               0.3025    5.091700       2.216433  \n",
       " 2018-04-15 00:30:00               0.1925    5.159167       2.220300  \n",
       " 2018-04-15 01:00:00              -0.8800    5.244467       2.239633  \n",
       " 2018-04-15 01:30:00               0.2475    5.299467       2.248933  \n",
       " 2018-04-15 02:00:00              -0.7700    5.418100       2.226867  \n",
       " ...                                  ...         ...            ...  \n",
       " 2018-04-16 21:30:00               0.0000    4.330400       2.481967  \n",
       " 2018-04-16 22:00:00               0.2750    4.395500       2.479167  \n",
       " 2018-04-16 22:30:00               0.0000    4.421133       2.488667  \n",
       " 2018-04-16 23:00:00               0.2750    4.425433       2.485167  \n",
       " 2018-04-16 23:30:00              -0.2750    4.336333       2.485133  \n",
       " \n",
       " [96 rows x 114 columns]]"
      ]
     },
     "execution_count": 84,
     "metadata": {},
     "output_type": "execute_result"
    }
   ],
   "source": [
    "list_df_test_mean"
   ]
  },
  {
   "cell_type": "code",
   "execution_count": 85,
   "metadata": {
    "ExecuteTime": {
     "end_time": "2020-02-20T00:50:32.407363Z",
     "start_time": "2020-02-20T00:50:29.168708Z"
    }
   },
   "outputs": [
    {
     "data": {
      "text/plain": [
       "[<matplotlib.axes._subplots.AxesSubplot at 0x2ae2533ad88>,\n",
       " <matplotlib.axes._subplots.AxesSubplot at 0x2ae25301e88>,\n",
       " <matplotlib.axes._subplots.AxesSubplot at 0x2ae2536b648>,\n",
       " <matplotlib.axes._subplots.AxesSubplot at 0x2ae24502348>,\n",
       " <matplotlib.axes._subplots.AxesSubplot at 0x2ae2453c288>,\n",
       " <matplotlib.axes._subplots.AxesSubplot at 0x2ae24574188>,\n",
       " <matplotlib.axes._subplots.AxesSubplot at 0x2ae245ac288>,\n",
       " <matplotlib.axes._subplots.AxesSubplot at 0x2ae245e2748>,\n",
       " <matplotlib.axes._subplots.AxesSubplot at 0x2ae24619c48>,\n",
       " <matplotlib.axes._subplots.AxesSubplot at 0x2ae24574288>]"
      ]
     },
     "execution_count": 85,
     "metadata": {},
     "output_type": "execute_result"
    },
    {
     "data": {
      "image/png": "[encoded data removed]",
      "text/plain": [
       "<Figure size 864x648 with 10 Axes>"
      ]
     },
     "metadata": {
      "needs_background": "light"
     },
     "output_type": "display_data"
    }
   ],
   "source": [
    "plt.rcParams[\"font.size\"] = 15  # 全体のフォントサイズが変更されます。\n",
    "plt.rcParams['xtick.labelsize'] = 15  # 軸だけ変更されます。\n",
    "plt.rcParams['ytick.labelsize'] = 15  # 軸だけ変更されます\n",
    "\n",
    "dispgraphs.scatter_graphs(df_events_mean, list_y_names=names_of_center, list_x_names=['Load_Avg_difference']*10,\n",
    "                             ylabel = 'Pulses\\n[m$^{-1}$mim$^{-1}$]', xlabel='Bedload discharge\\n[kg m$^{-1}$mim$^{-1}$]',\n",
    "                             figsize=(3*4, 3*3), alpha=0.1, linear_regression=False)"
   ]
  },
  {
   "cell_type": "markdown",
   "metadata": {},
   "source": [
    "1024-512倍，512-256倍，256-128倍，128-64倍では，流砂量(横軸)が0の時もパルス数がとれている  \n",
    "（流砂量0の時のデータをヒストグラムで見ると分かる）  \n",
    "→ノイズが入ってしまっている  \n",
    "\n",
    "また，1024-512倍，512-256倍，256-128倍，128-64倍ではパルスの飽和が確認される  \n",
    "→64以下ではパルスの飽和が起きないとし（64-32倍は少し見られるがスルー），f(Nr)=1とする"
   ]
  },
  {
   "cell_type": "markdown",
   "metadata": {
    "ExecuteTime": {
     "end_time": "2020-02-01T15:45:53.021175Z",
     "start_time": "2020-02-01T15:45:53.015193Z"
    }
   },
   "source": [
    "これらの理由から，今回は64-32倍，32-16倍，16-8倍，8-4倍，4-2倍，2倍だけを使う.  \n",
    "ノイズをどうにか処理できたり，f(Nr)の関数をそれぞれの粒径界で設定できれば，1024倍，512倍，256倍，128倍も使えると考えられる"
   ]
  },
  {
   "cell_type": "code",
   "execution_count": 86,
   "metadata": {
    "ExecuteTime": {
     "end_time": "2020-02-20T00:50:32.423321Z",
     "start_time": "2020-02-20T00:50:32.411318Z"
    }
   },
   "outputs": [
    {
     "name": "stdout",
     "output_type": "stream",
     "text": [
      "['hp_Tot(5)', 'hp_Tot(6)', 'hp_Tot(7)', 'hp_Tot(8)', 'hp_Tot(9)', 'hp_Tot(10)', 'Load_Avg', 'Load_Avg_difference', 'WL_FMR_Avg']\n",
      "[0.00091 0.00196 0.00301 0.00691 0.01081 0.05   ]\n"
     ]
    }
   ],
   "source": [
    "use_tots = names_of_center[4:]\n",
    "coluses = use_tots + ['Load_Avg', 'Load_Avg_difference', 'WL_FMR_Avg']\n",
    "print(coluses)\n",
    "\n",
    "#使うtotの数に合わせてW_IDEALも選択\n",
    "W_IDEAL_use = W_IDEAL[-len(use_tots):]\n",
    "print(W_IDEAL_use)"
   ]
  },
  {
   "cell_type": "markdown",
   "metadata": {},
   "source": [
    "・ピット流砂量が0以下は，原理上あり得ないが，ピットから流砂が何らかの影響で流れ出てしまうことがある  \n",
    "　（流木が刺さったりして2次元流が卓越する等）．  \n",
    "・水深2cm以下はエラー\n",
    "・水深30cm以上はエラー？？（ここは経験則）  \n",
    "・全てのデータが揃っていないと本手法を使えないので揃っていない部分があれば削除\n",
    "\n",
    "これらのデータはエラーとみなし，除外する  \n",
    "その後，df_train_mean, testに入っているデータをハイドロフォンデータ（df_optimize）と水深データ（WL_FMR_Avg），ピット流砂量（qobs）に分ける"
   ]
  },
  {
   "cell_type": "code",
   "execution_count": 87,
   "metadata": {
    "ExecuteTime": {
     "end_time": "2020-02-20T00:50:32.442235Z",
     "start_time": "2020-02-20T00:50:32.426279Z"
    }
   },
   "outputs": [],
   "source": [
    "def pit_positive(df):\n",
    "    '''\n",
    "    df has to have Load_Avg_difference column\n",
    "    '''\n",
    "    return df[df['Load_Avg_difference']>=0]\n",
    "\n",
    "def waterlevel_clean(df, min_wl=2, max_wl=30):\n",
    "    '''\n",
    "    df has to have WL_FMR_Avg column.\n",
    "    '''\n",
    "    df = df[df['WL_FMR_Avg']>min_wl]\n",
    "    df = df[df['WL_FMR_Avg']<max_wl]\n",
    "    return df\n",
    "\n",
    "def organize_dfs(df):\n",
    "    df = pit_positive(df)\n",
    "    df = waterlevel_clean(df)\n",
    "    #NANが一つでもあれば削除\n",
    "    df = df.dropna(how='all')\n",
    "    return df\n"
   ]
  },
  {
   "cell_type": "markdown",
   "metadata": {},
   "source": [
    "上のセルで作成した関数organize_dfsを使ってデータ整理"
   ]
  },
  {
   "cell_type": "code",
   "execution_count": 88,
   "metadata": {
    "ExecuteTime": {
     "end_time": "2020-02-20T00:50:32.474171Z",
     "start_time": "2020-02-20T00:50:32.445392Z"
    }
   },
   "outputs": [],
   "source": [
    "df_train_mean = organize_dfs(df_train_mean)\n",
    "df_test_mean = organize_dfs(df_test_mean)"
   ]
  },
  {
   "cell_type": "markdown",
   "metadata": {},
   "source": [
    "ここで，df_train_positiveに入っているデータをハイドロフォンデータ（df_optimize）と水深データ（WL_FMR_Avg），ピット流砂量（qobs）に分ける"
   ]
  },
  {
   "cell_type": "code",
   "execution_count": 89,
   "metadata": {
    "ExecuteTime": {
     "end_time": "2020-02-20T00:50:32.485120Z",
     "start_time": "2020-02-20T00:50:32.476144Z"
    }
   },
   "outputs": [],
   "source": [
    "def splitdf_dfoptimize_wl_qobs(df, use_tots):\n",
    "    '''\n",
    "    df has to have only use_tots, WL_FMR_Avg, Load_Avg_difference columns\n",
    "    '''\n",
    "    df_optimize = df[use_tots]\n",
    "    waterlevel = df['WL_FMR_Avg']\n",
    "    qobs = df['Load_Avg_difference']\n",
    "    return df_optimize, waterlevel, qobs"
   ]
  },
  {
   "cell_type": "code",
   "execution_count": 90,
   "metadata": {
    "ExecuteTime": {
     "end_time": "2020-02-20T00:50:32.502076Z",
     "start_time": "2020-02-20T00:50:32.489112Z"
    }
   },
   "outputs": [],
   "source": [
    "#trainデータ\n",
    "df_optimize_train, waterleve_train, qobs_train = splitdf_dfoptimize_wl_qobs(df_train_mean, use_tots=use_tots)\n",
    "#testデータ\n",
    "df_optimize_test, waterleve_test, qobs_test = splitdf_dfoptimize_wl_qobs(df_test_mean, use_tots=use_tots)"
   ]
  },
  {
   "cell_type": "code",
   "execution_count": null,
   "metadata": {
    "ExecuteTime": {
     "end_time": "2020-02-05T17:35:48.336230Z",
     "start_time": "2020-02-05T17:35:48.259432Z"
    }
   },
   "outputs": [],
   "source": []
  },
  {
   "cell_type": "markdown",
   "metadata": {},
   "source": [
    "# alphaをふるい結果から決める"
   ]
  },
  {
   "cell_type": "markdown",
   "metadata": {},
   "source": [
    "ここで，ふるい結果をインポートする．  \n",
    "下のデータフレームは、ピット内のふるい結果である。上から、表面から-30cm、-45cm、-60cmの位置の土砂である。"
   ]
  },
  {
   "cell_type": "code",
   "execution_count": 91,
   "metadata": {
    "ExecuteTime": {
     "end_time": "2020-02-20T00:50:32.546011Z",
     "start_time": "2020-02-20T00:50:32.505067Z"
    }
   },
   "outputs": [
    {
     "data": {
      "text/html": [
       "<div>\n",
       "<style scoped>\n",
       "    .dataframe tbody tr th:only-of-type {\n",
       "        vertical-align: middle;\n",
       "    }\n",
       "\n",
       "    .dataframe tbody tr th {\n",
       "        vertical-align: top;\n",
       "    }\n",
       "\n",
       "    .dataframe thead th {\n",
       "        text-align: right;\n",
       "    }\n",
       "</style>\n",
       "<table border=\"1\" class=\"dataframe\">\n",
       "  <thead>\n",
       "    <tr style=\"text-align: right;\">\n",
       "      <th></th>\n",
       "      <th>31.5mm-(g)</th>\n",
       "      <th>19-31.5mm(g)</th>\n",
       "      <th>9-15mm(g)</th>\n",
       "      <th>7-9mm(g)</th>\n",
       "      <th>5-7mm(g)</th>\n",
       "      <th>2-5mm(g)</th>\n",
       "      <th>1-2mm(g)</th>\n",
       "      <th>-1mm(g)</th>\n",
       "      <th>31.5mm-(%)</th>\n",
       "      <th>19-31.5mm(%)</th>\n",
       "      <th>9-15mm(%)</th>\n",
       "      <th>7-9mm(%)</th>\n",
       "      <th>5-7mm(%)</th>\n",
       "      <th>2-5mm(%)</th>\n",
       "      <th>1-2mm(%)</th>\n",
       "      <th>-1mm(%)</th>\n",
       "      <th>starttime</th>\n",
       "      <th>endtime</th>\n",
       "    </tr>\n",
       "    <tr>\n",
       "      <th>TIMESTAMP</th>\n",
       "      <th></th>\n",
       "      <th></th>\n",
       "      <th></th>\n",
       "      <th></th>\n",
       "      <th></th>\n",
       "      <th></th>\n",
       "      <th></th>\n",
       "      <th></th>\n",
       "      <th></th>\n",
       "      <th></th>\n",
       "      <th></th>\n",
       "      <th></th>\n",
       "      <th></th>\n",
       "      <th></th>\n",
       "      <th></th>\n",
       "      <th></th>\n",
       "      <th></th>\n",
       "      <th></th>\n",
       "    </tr>\n",
       "  </thead>\n",
       "  <tbody>\n",
       "    <tr>\n",
       "      <th>2017-11-23</th>\n",
       "      <td>134</td>\n",
       "      <td>507</td>\n",
       "      <td>1120</td>\n",
       "      <td>804</td>\n",
       "      <td>1557</td>\n",
       "      <td>2718</td>\n",
       "      <td>2163</td>\n",
       "      <td>3079</td>\n",
       "      <td>1.109088</td>\n",
       "      <td>4.196325</td>\n",
       "      <td>9.269988</td>\n",
       "      <td>6.654527</td>\n",
       "      <td>12.886939</td>\n",
       "      <td>22.496275</td>\n",
       "      <td>17.902665</td>\n",
       "      <td>25.484191</td>\n",
       "      <td>2017/9/21 0:00</td>\n",
       "      <td>2017/9/23 0:00</td>\n",
       "    </tr>\n",
       "    <tr>\n",
       "      <th>2017-11-23</th>\n",
       "      <td>0</td>\n",
       "      <td>61</td>\n",
       "      <td>423</td>\n",
       "      <td>439</td>\n",
       "      <td>1671</td>\n",
       "      <td>4498</td>\n",
       "      <td>3408</td>\n",
       "      <td>2147</td>\n",
       "      <td>0.000000</td>\n",
       "      <td>0.482328</td>\n",
       "      <td>3.344667</td>\n",
       "      <td>3.471179</td>\n",
       "      <td>13.212620</td>\n",
       "      <td>35.565747</td>\n",
       "      <td>26.947102</td>\n",
       "      <td>16.976358</td>\n",
       "      <td>2017/9/21 0:00</td>\n",
       "      <td>2017/9/23 0:00</td>\n",
       "    </tr>\n",
       "    <tr>\n",
       "      <th>2017-11-23</th>\n",
       "      <td>0</td>\n",
       "      <td>81</td>\n",
       "      <td>697</td>\n",
       "      <td>1091</td>\n",
       "      <td>2481</td>\n",
       "      <td>4775</td>\n",
       "      <td>2073</td>\n",
       "      <td>1296</td>\n",
       "      <td>0.000000</td>\n",
       "      <td>0.648311</td>\n",
       "      <td>5.578678</td>\n",
       "      <td>8.732191</td>\n",
       "      <td>19.857532</td>\n",
       "      <td>38.218345</td>\n",
       "      <td>16.591964</td>\n",
       "      <td>10.372979</td>\n",
       "      <td>2017/9/21 0:00</td>\n",
       "      <td>2017/9/23 0:00</td>\n",
       "    </tr>\n",
       "    <tr>\n",
       "      <th>2018-04-28</th>\n",
       "      <td>1172</td>\n",
       "      <td>1713</td>\n",
       "      <td>1690</td>\n",
       "      <td>787</td>\n",
       "      <td>1046</td>\n",
       "      <td>2125</td>\n",
       "      <td>2447</td>\n",
       "      <td>3634</td>\n",
       "      <td>8.019707</td>\n",
       "      <td>11.721637</td>\n",
       "      <td>11.564253</td>\n",
       "      <td>5.385247</td>\n",
       "      <td>7.157520</td>\n",
       "      <td>14.540851</td>\n",
       "      <td>16.744218</td>\n",
       "      <td>24.866566</td>\n",
       "      <td>2018/4/15 0:00</td>\n",
       "      <td>2018/4/28 0:00</td>\n",
       "    </tr>\n",
       "    <tr>\n",
       "      <th>2018-04-28</th>\n",
       "      <td>901</td>\n",
       "      <td>1223</td>\n",
       "      <td>1678</td>\n",
       "      <td>747</td>\n",
       "      <td>1226</td>\n",
       "      <td>2395</td>\n",
       "      <td>2619</td>\n",
       "      <td>3697</td>\n",
       "      <td>6.219798</td>\n",
       "      <td>8.442634</td>\n",
       "      <td>11.583598</td>\n",
       "      <td>5.156703</td>\n",
       "      <td>8.463344</td>\n",
       "      <td>16.533204</td>\n",
       "      <td>18.079525</td>\n",
       "      <td>25.521193</td>\n",
       "      <td>2018/4/15 0:00</td>\n",
       "      <td>2018/4/28 0:00</td>\n",
       "    </tr>\n",
       "    <tr>\n",
       "      <th>2018-04-28</th>\n",
       "      <td>1267</td>\n",
       "      <td>1086</td>\n",
       "      <td>1981</td>\n",
       "      <td>823</td>\n",
       "      <td>1174</td>\n",
       "      <td>2340</td>\n",
       "      <td>2386</td>\n",
       "      <td>3213</td>\n",
       "      <td>8.878767</td>\n",
       "      <td>7.610371</td>\n",
       "      <td>13.882270</td>\n",
       "      <td>5.767344</td>\n",
       "      <td>8.227050</td>\n",
       "      <td>16.398038</td>\n",
       "      <td>16.720392</td>\n",
       "      <td>22.515767</td>\n",
       "      <td>2018/4/15 0:00</td>\n",
       "      <td>2018/4/28 0:00</td>\n",
       "    </tr>\n",
       "    <tr>\n",
       "      <th>2018-07-16</th>\n",
       "      <td>387</td>\n",
       "      <td>551</td>\n",
       "      <td>975</td>\n",
       "      <td>372</td>\n",
       "      <td>530</td>\n",
       "      <td>1269</td>\n",
       "      <td>2048</td>\n",
       "      <td>3800</td>\n",
       "      <td>3.896496</td>\n",
       "      <td>5.547725</td>\n",
       "      <td>9.816754</td>\n",
       "      <td>3.745469</td>\n",
       "      <td>5.336287</td>\n",
       "      <td>12.776883</td>\n",
       "      <td>20.620217</td>\n",
       "      <td>38.260169</td>\n",
       "      <td>2018/5/1 0:00</td>\n",
       "      <td>2018/5/20 0:00</td>\n",
       "    </tr>\n",
       "    <tr>\n",
       "      <th>2018-07-16</th>\n",
       "      <td>458</td>\n",
       "      <td>678</td>\n",
       "      <td>1240</td>\n",
       "      <td>417</td>\n",
       "      <td>560</td>\n",
       "      <td>974</td>\n",
       "      <td>1211</td>\n",
       "      <td>2502</td>\n",
       "      <td>5.696517</td>\n",
       "      <td>8.432836</td>\n",
       "      <td>15.422886</td>\n",
       "      <td>5.186567</td>\n",
       "      <td>6.965174</td>\n",
       "      <td>12.114428</td>\n",
       "      <td>15.062189</td>\n",
       "      <td>31.119403</td>\n",
       "      <td>2018/5/1 0:00</td>\n",
       "      <td>2018/5/20 0:00</td>\n",
       "    </tr>\n",
       "    <tr>\n",
       "      <th>2018-07-16</th>\n",
       "      <td>866</td>\n",
       "      <td>854</td>\n",
       "      <td>814</td>\n",
       "      <td>409</td>\n",
       "      <td>591</td>\n",
       "      <td>1249</td>\n",
       "      <td>1491</td>\n",
       "      <td>2556</td>\n",
       "      <td>9.807475</td>\n",
       "      <td>9.671574</td>\n",
       "      <td>9.218573</td>\n",
       "      <td>4.631937</td>\n",
       "      <td>6.693092</td>\n",
       "      <td>14.144960</td>\n",
       "      <td>16.885617</td>\n",
       "      <td>28.946772</td>\n",
       "      <td>2018/5/1 0:00</td>\n",
       "      <td>2018/5/20 0:00</td>\n",
       "    </tr>\n",
       "  </tbody>\n",
       "</table>\n",
       "</div>"
      ],
      "text/plain": [
       "            31.5mm-(g)  19-31.5mm(g)  9-15mm(g)  7-9mm(g)  5-7mm(g)  2-5mm(g)  \\\n",
       "TIMESTAMP                                                                       \n",
       "2017-11-23         134           507       1120       804      1557      2718   \n",
       "2017-11-23           0            61        423       439      1671      4498   \n",
       "2017-11-23           0            81        697      1091      2481      4775   \n",
       "2018-04-28        1172          1713       1690       787      1046      2125   \n",
       "2018-04-28         901          1223       1678       747      1226      2395   \n",
       "2018-04-28        1267          1086       1981       823      1174      2340   \n",
       "2018-07-16         387           551        975       372       530      1269   \n",
       "2018-07-16         458           678       1240       417       560       974   \n",
       "2018-07-16         866           854        814       409       591      1249   \n",
       "\n",
       "            1-2mm(g)  -1mm(g)  31.5mm-(%)  19-31.5mm(%)  9-15mm(%)  7-9mm(%)  \\\n",
       "TIMESTAMP                                                                      \n",
       "2017-11-23      2163     3079    1.109088      4.196325   9.269988  6.654527   \n",
       "2017-11-23      3408     2147    0.000000      0.482328   3.344667  3.471179   \n",
       "2017-11-23      2073     1296    0.000000      0.648311   5.578678  8.732191   \n",
       "2018-04-28      2447     3634    8.019707     11.721637  11.564253  5.385247   \n",
       "2018-04-28      2619     3697    6.219798      8.442634  11.583598  5.156703   \n",
       "2018-04-28      2386     3213    8.878767      7.610371  13.882270  5.767344   \n",
       "2018-07-16      2048     3800    3.896496      5.547725   9.816754  3.745469   \n",
       "2018-07-16      1211     2502    5.696517      8.432836  15.422886  5.186567   \n",
       "2018-07-16      1491     2556    9.807475      9.671574   9.218573  4.631937   \n",
       "\n",
       "             5-7mm(%)   2-5mm(%)   1-2mm(%)    -1mm(%)       starttime  \\\n",
       "TIMESTAMP                                                                \n",
       "2017-11-23  12.886939  22.496275  17.902665  25.484191  2017/9/21 0:00   \n",
       "2017-11-23  13.212620  35.565747  26.947102  16.976358  2017/9/21 0:00   \n",
       "2017-11-23  19.857532  38.218345  16.591964  10.372979  2017/9/21 0:00   \n",
       "2018-04-28   7.157520  14.540851  16.744218  24.866566  2018/4/15 0:00   \n",
       "2018-04-28   8.463344  16.533204  18.079525  25.521193  2018/4/15 0:00   \n",
       "2018-04-28   8.227050  16.398038  16.720392  22.515767  2018/4/15 0:00   \n",
       "2018-07-16   5.336287  12.776883  20.620217  38.260169   2018/5/1 0:00   \n",
       "2018-07-16   6.965174  12.114428  15.062189  31.119403   2018/5/1 0:00   \n",
       "2018-07-16   6.693092  14.144960  16.885617  28.946772   2018/5/1 0:00   \n",
       "\n",
       "                   endtime  \n",
       "TIMESTAMP                   \n",
       "2017-11-23  2017/9/23 0:00  \n",
       "2017-11-23  2017/9/23 0:00  \n",
       "2017-11-23  2017/9/23 0:00  \n",
       "2018-04-28  2018/4/28 0:00  \n",
       "2018-04-28  2018/4/28 0:00  \n",
       "2018-04-28  2018/4/28 0:00  \n",
       "2018-07-16  2018/5/20 0:00  \n",
       "2018-07-16  2018/5/20 0:00  \n",
       "2018-07-16  2018/5/20 0:00  "
      ]
     },
     "execution_count": 91,
     "metadata": {},
     "output_type": "execute_result"
    }
   ],
   "source": [
    "df_furui = getdfs.get_furui()\n",
    "x_furui = [1, 2, 5, 7, 9, 15, 31.5, 50] #furui粒径界の上限\n",
    "x_tot = [2, 5, 6, 7, 8.5, 10, 12.5, 15, 20, 30, 50] #Tot粒径界の上限\n",
    "g_furui = ['-1mm(g)', '1-2mm(g)', '2-5mm(g)', '5-7mm(g)', '7-9mm(g)', '9-15mm(g)', '19-31.5mm(g)', '31.5mm-(g)'] #furui粒径界(g)\n",
    "percent_furui = ['-1mm(%)', '1-2mm(%)', '2-5mm(%)', '5-7mm(%)', '7-9mm(%)', '9-15mm(%)', '19-31.5mm(%)', '31.5mm-(%)'] #furui粒径界(%)\n",
    "df_furui"
   ]
  },
  {
   "cell_type": "markdown",
   "metadata": {
    "ExecuteTime": {
     "end_time": "2020-02-03T10:54:35.942390Z",
     "start_time": "2020-02-03T10:54:35.919483Z"
    }
   },
   "source": [
    "左図：ピットふるい3日分×3つの位置(-30cm、-45cm、-60cm)＝9データをプロット。粒度分布百分率  \n",
    "右図：ピットの下の方と上の方はあまり1イベントを表しているとは言い難い(底には細かいのが多く、上の方は細かいのが流れて大きな流砂が多いなど)ため、真ん中(-45cm)のデータのみを抽出"
   ]
  },
  {
   "cell_type": "code",
   "execution_count": 92,
   "metadata": {
    "ExecuteTime": {
     "end_time": "2020-02-20T00:50:34.462341Z",
     "start_time": "2020-02-20T00:50:32.548951Z"
    },
    "code_folding": []
   },
   "outputs": [
    {
     "name": "stdout",
     "output_type": "stream",
     "text": [
      "0mmと50mmの間の割合(100になるはず)： 1.00000000001\n",
      "100%のときの粒径(50になるはず)： [49.9]\n"
     ]
    },
    {
     "data": {
      "image/png": "[encoded data removed]",
      "text/plain": [
       "<Figure size 864x288 with 2 Axes>"
      ]
     },
     "metadata": {
      "needs_background": "light"
     },
     "output_type": "display_data"
    }
   ],
   "source": [
    "###すべてグラフ出力######\n",
    "\n",
    "fig = plt.figure(figsize=(12,4))\n",
    "ax1 = plt.subplot(1,2,1) \n",
    "\n",
    "for i in range(9):\n",
    "    furui_percent_cumsum = np.cumsum(df_furui[i:i+1][percent_furui], axis=1)\n",
    "    ax1.scatter(x_furui, furui_percent_cumsum)\n",
    "    ax1.set_xscale('log')\n",
    "    ax1.set_ylim(0,105)\n",
    "    ax1.set_xlim((0.1), 100)\n",
    "#########################\n",
    "\n",
    "###３つの平均を算出######\n",
    "furui_percents = [0]*len(percent_furui)\n",
    "for i in range(1, 9, 3):\n",
    "    furui_percents = furui_percents + np.array(df_furui[i:i+1][percent_furui])\n",
    "furui_percent_cumsums = np.cumsum(furui_percents, axis=1).flatten()\n",
    "furui_percent_cumsum_mean =  furui_percent_cumsums/3\n",
    "#########################\n",
    "\n",
    "###真ん中のデータのみグラフ出力######\n",
    "ax2 = plt.subplot(1,2,2) \n",
    "for i in range(1, 9, 3):\n",
    "    furui_percent_cumsum = np.cumsum(df_furui[i:i+1][percent_furui], axis=1)\n",
    "    ax2.scatter(x_furui, furui_percent_cumsum)\n",
    "    ax2.set_xscale('log')\n",
    "    ax2.set_ylim(0,105)\n",
    "    ax2.set_xlim((0.1), 100)\n",
    "\n",
    "# ３つの平均をグラフ出力(赤)##\n",
    "ax2.scatter(x_furui, furui_percent_cumsum_mean, c=\"red\")\n",
    "#########################\n",
    "\n",
    "#直線近似\n",
    "# y=mx+n\n",
    "# ２点を通る方程式を返却\n",
    "# (y=数値) or (x=数値) or (y=mx+n)\n",
    "def makeLinearEquation(x1, y1, x2, y2):\n",
    "    line = {}\n",
    "    if y1 == y2:\n",
    "        # y軸に平行な直線\n",
    "        line[\"y\"] = y1\n",
    "    elif x1 == x2:\n",
    "        # x軸に平行な直線\n",
    "        line[\"x\"] = x1\n",
    "    else:\n",
    "        # y = mx + n\n",
    "        line[\"m\"] = (y1 - y2) / (x1 - x2)\n",
    "        line[\"n\"] = y1 - (line[\"m\"] * x1)\n",
    "#     print(line)\n",
    "    return line\n",
    "\n",
    "def calc_y(line, dia):\n",
    "#     print(\"y=mx+n : \",line)\n",
    "    if 'y' in line:\n",
    "        percent = line[\"y\"]\n",
    "    elif 'x' in line:\n",
    "        print('Error, x is something wrong')\n",
    "    else:\n",
    "        percent = line[\"m\"]*dia + line[\"n\"]\n",
    "#     print(\"pecent : \", percent)\n",
    "    return percent\n",
    "    \n",
    "\n",
    "x_mean = np.insert(x_furui, 0, 0)\n",
    "y_mean = np.insert(furui_percent_cumsum_mean, 0, 0)\n",
    "\n",
    "def calcPercent(dia, x, y):\n",
    "    \"\"\"\n",
    "    粒径から通過百分率のパーセントを算出する\n",
    "    各プロット毎に直線近似\n",
    "    \"\"\"\n",
    "    if (dia >= x[0]) & (dia < x[1]):\n",
    "        line = makeLinearEquation(x[0], y[0], x[1], y[1])\n",
    "        percent = calc_y(line, dia)\n",
    "\n",
    "    elif (dia >= x[1]) & (dia < x[2]):\n",
    "        line = makeLinearEquation(x[1], y[1], x[2], y[2])\n",
    "        percent = calc_y(line, dia)\n",
    "\n",
    "    elif (dia >= x[2]) & (dia < x[3]):\n",
    "        line = makeLinearEquation(x[2], y[2], x[3], y[3])\n",
    "        percent = calc_y(line, dia)\n",
    "\n",
    "    elif (dia >= x[3]) & (dia < x[4]):\n",
    "        line = makeLinearEquation(x[3], y[3], x[4], y[4])\n",
    "        percent = calc_y(line, dia)\n",
    "\n",
    "    elif (dia >= x[4]) & (dia < x[5]):\n",
    "        line = makeLinearEquation(x[4], y[4], x[5], y[5])\n",
    "        percent = calc_y(line, dia)\n",
    "\n",
    "    elif (dia >= x[5]) & (dia < x[6]):\n",
    "        line = makeLinearEquation(x[5], y[5], x[6], y[6])\n",
    "        percent = calc_y(line, dia)\n",
    "\n",
    "    elif (dia >= x[6]) & (dia < x[7]):\n",
    "        line = makeLinearEquation(x[6], y[6], x[7], y[7])\n",
    "        percent = calc_y(line, dia)\n",
    "\n",
    "    elif (dia >= x[7]) & (dia <= x[8]):\n",
    "        line = makeLinearEquation(x[7], y[7], x[8], y[8])\n",
    "        percent = calc_y(line, dia)\n",
    "        \n",
    "    else:\n",
    "        print(\"Diameter is out of range\")\n",
    "        \n",
    "    return percent\n",
    "\n",
    "def calc_dia_rate(max_dia, min_dia, x, y):\n",
    "    rate = calcPercent(max_dia, x, y) - calcPercent(min_dia, x, y)\n",
    "    return rate/100\n",
    "\n",
    "def calc_dia_from_percent(percent, x, y):\n",
    "    try_dia = np.arange(0, 50, 0.1)\n",
    "    \n",
    "    dia_hold = []\n",
    "    for dia in try_dia:\n",
    "        dia_hold.append(calcPercent(dia, x, y))\n",
    "    dia_hold = np.array(dia_hold)\n",
    "    dia_hold = np.abs(dia_hold-percent)\n",
    "    key = np.where(dia_hold == np.min(dia_hold))\n",
    "    dia = try_dia[key]\n",
    "    \n",
    "    return dia\n",
    "\n",
    "\n",
    "print(\"0mmと50mmの間の割合(100になるはず)：\",calc_dia_rate(50, 0, x_mean, y_mean))\n",
    "print(\"100%のときの粒径(50になるはず)：\", calc_dia_from_percent(100, x_mean, y_mean))"
   ]
  },
  {
   "cell_type": "markdown",
   "metadata": {},
   "source": [
    "8,5mm以上（50mmを上限としてる）の流砂量の割合alphaは"
   ]
  },
  {
   "cell_type": "code",
   "execution_count": 93,
   "metadata": {
    "ExecuteTime": {
     "end_time": "2020-02-20T00:50:34.474623Z",
     "start_time": "2020-02-20T00:50:34.465954Z"
    }
   },
   "outputs": [
    {
     "name": "stdout",
     "output_type": "stream",
     "text": [
      "alpha :  0.21026292094333315\n"
     ]
    }
   ],
   "source": [
    "alpha = calc_dia_rate(50, 8.5, x_mean, y_mean)\n",
    "print('alpha : ', alpha)"
   ]
  },
  {
   "cell_type": "markdown",
   "metadata": {
    "ExecuteTime": {
     "end_time": "2020-02-02T09:20:19.650347Z",
     "start_time": "2020-02-02T09:20:19.642369Z"
    }
   },
   "source": [
    "# 最小化問題を解く"
   ]
  },
  {
   "cell_type": "markdown",
   "metadata": {},
   "source": [
    "まずは初期条件"
   ]
  },
  {
   "cell_type": "code",
   "execution_count": 94,
   "metadata": {
    "ExecuteTime": {
     "end_time": "2020-02-20T00:50:34.487589Z",
     "start_time": "2020-02-20T00:50:34.477615Z"
    }
   },
   "outputs": [],
   "source": [
    "#f(Nr)は1としているため\n",
    "f_n = 1\n",
    "# alphaの値は上で決めてる\n",
    "# alpha=0.3\n",
    "#粒径を算出 \n",
    "D_IDEALm = 2*((W_IDEAL/2650)*(3/4)*(1/math.pi))**(1/3)\n",
    "D_IDEALm_use = 2*((W_IDEAL_use/2650)*(3/4)*(1/math.pi))**(1/3)\n",
    "D_IDEALcm_use = D_IDEALm_use*100"
   ]
  },
  {
   "cell_type": "code",
   "execution_count": 95,
   "metadata": {
    "ExecuteTime": {
     "end_time": "2020-02-20T00:50:34.496563Z",
     "start_time": "2020-02-20T00:50:34.490579Z"
    }
   },
   "outputs": [
    {
     "data": {
      "text/plain": [
       "array([0.86882498, 1.12202842, 1.29451573, 1.70769845, 1.98241115,\n",
       "       3.30299946])"
      ]
     },
     "execution_count": 95,
     "metadata": {},
     "output_type": "execute_result"
    }
   ],
   "source": [
    "D_IDEALcm_use"
   ]
  },
  {
   "cell_type": "markdown",
   "metadata": {
    "ExecuteTime": {
     "end_time": "2020-02-02T15:01:21.244216Z",
     "start_time": "2020-02-02T15:01:21.229256Z"
    }
   },
   "source": [
    "次に，γnをsklardietrichの式からサルテーション高さから算出（詳細は修論）  \n",
    "コードは，sklardietrich.pyに入ってます．"
   ]
  },
  {
   "cell_type": "code",
   "execution_count": 96,
   "metadata": {
    "ExecuteTime": {
     "end_time": "2020-02-20T00:50:34.516509Z",
     "start_time": "2020-02-20T00:50:34.499556Z"
    }
   },
   "outputs": [],
   "source": [
    "#calc gamma by sklardietrich\n",
    "#sklardietrichからgammaを計算。あとで使用\n",
    "def calc_gamma(list_h_s, bump_hp_m):\n",
    "    list_gamma = []\n",
    "    for h_s in list_h_s:\n",
    "        #データがエラー値なら1\n",
    "        if np.isnan(h_s):\n",
    "            gamma = 1\n",
    "            list_gamma.append(gamma)\n",
    "            \n",
    "        #ハイドロフォン高さ以下なら1\n",
    "        elif h_s <= bump_hp_m:\n",
    "            gamma = 1\n",
    "            list_gamma.append(gamma)\n",
    "            \n",
    "        #ハイドロフォン高さ以上なら割り算\n",
    "        else:\n",
    "            gamma = bump_hp_m/h_s\n",
    "            list_gamma.append(gamma)\n",
    "\n",
    "    return list_gamma \n",
    "\n",
    "def calc_gammas(series_wl):\n",
    "    '''\n",
    "    calc_gammaを使って，全ての粒径界，水深データに対してgammaを算出する\n",
    "    sklardietrichは全てcm, gで計算しているためそれに合わせている．\n",
    "    '''\n",
    "    #gammaは無次元\n",
    "    list2d_gamma = []\n",
    "    bump_hp_m = 0.025 * 100 #cm\n",
    "    width = 500#cm\n",
    "\n",
    "    for wl in series_wl:\n",
    "        #wl is in cm\n",
    "        #径深Rを算出\n",
    "        R = sklardietrich.calc_R(wl, width)\n",
    "        #h_s is in cm\n",
    "        list_h_s = [sklardietrich.calc_h_s(R=R, d=D_IDEALcm_use[i]) for i in range(len(D_IDEALcm_use))]\n",
    "\n",
    "        #gammaを計算\n",
    "        list_gamma = calc_gamma(list_h_s, bump_hp_m)\n",
    "        list2d_gamma.append(list_gamma)\n",
    "\n",
    "    return list2d_gamma\n",
    "        "
   ]
  },
  {
   "cell_type": "code",
   "execution_count": 97,
   "metadata": {
    "ExecuteTime": {
     "end_time": "2020-02-20T00:50:38.873578Z",
     "start_time": "2020-02-20T00:50:34.519584Z"
    }
   },
   "outputs": [
    {
     "name": "stderr",
     "output_type": "stream",
     "text": [
      "C:\\Users\\user\\OneDrive - Kyoto University\\shared-Yutaka\\Research\\Hydrophone_Higashi_MastersThesis\\my_module\\sklardietrich.py:135: RuntimeWarning: invalid value encountered in double_scalars\n",
      "  h_s = (1.44*((tau_star/tau_star_c)-1)**0.5)*d\n"
     ]
    }
   ],
   "source": [
    "# 訓練データにおける全γを全て算出\n",
    "gammas = calc_gammas(series_wl=waterleve_train)"
   ]
  },
  {
   "cell_type": "markdown",
   "metadata": {},
   "source": [
    "ここで，Cとβnを設定していなときの理想的な粒径別流砂量を算出し，dfに保存"
   ]
  },
  {
   "cell_type": "code",
   "execution_count": 98,
   "metadata": {
    "ExecuteTime": {
     "end_time": "2020-02-20T00:50:38.900243Z",
     "start_time": "2020-02-20T00:50:38.876304Z"
    }
   },
   "outputs": [],
   "source": [
    "df_qcalc_train_nocorrected = (df_optimize_train.mul(W_IDEAL_use.reshape(1,len(W_IDEAL_use))) / np.array(gammas))"
   ]
  },
  {
   "cell_type": "markdown",
   "metadata": {},
   "source": [
    "以下のセルでコスト関数を算出する関数を作成"
   ]
  },
  {
   "cell_type": "code",
   "execution_count": 99,
   "metadata": {
    "ExecuteTime": {
     "end_time": "2020-02-20T00:50:38.919695Z",
     "start_time": "2020-02-20T00:50:38.903250Z"
    }
   },
   "outputs": [],
   "source": [
    "evaluate = 'MAE'\n",
    "\n",
    "def func(Const):\n",
    "    '''\n",
    "    ここに最小化するコスト関数を設定する。\n",
    "    コスト関数をreturnで返す\n",
    "    Const[:-1]: beta\n",
    "    Const[-1] : C \n",
    "    '''\n",
    "    df_w = df_qcalc_train_nocorrected.mul(Const[:-1])\n",
    "    df_w_sum = df_w.sum(axis=1)\n",
    "    df_qcalc = df_w_sum * (Const[-1]/(f_n*alpha))\n",
    "    # cost = np.square(df_qcalc-df_qobs)\n",
    "    # Cost = cost.sum()\n",
    "\n",
    "    if evaluate == \"MAE\":\n",
    "        cost = mean_absolute_error(qobs_train, df_qcalc)\n",
    "\n",
    "    elif evaluate =='RMSE':\n",
    "        cost = np.sqrt(mean_squared_error(qobs_train, df_qcalc))\n",
    "\n",
    "    else:\n",
    "        logger.exception(\"Evaluate func doesn't match with our choices \")\n",
    "\n",
    "    return cost"
   ]
  },
  {
   "cell_type": "markdown",
   "metadata": {},
   "source": [
    "ここでは制約条件を作成  \n",
    "制約条件の書き方は，pythonのライブラリminimizeについて調べないとよくわからないかも\n",
    "\n",
    "動的に制約条件を作ってもなぜかエラーが出るので，わざわざ場合分けしています．なのでコードが必要以上に長いです．"
   ]
  },
  {
   "cell_type": "code",
   "execution_count": 100,
   "metadata": {
    "ExecuteTime": {
     "end_time": "2020-02-20T00:50:39.114667Z",
     "start_time": "2020-02-20T00:50:38.924176Z"
    },
    "code_folding": [
     33,
     61,
     92,
     125,
     162,
     184
    ]
   },
   "outputs": [],
   "source": [
    "# βの制約条件\n",
    "error_less = 0.5\n",
    "error_more = 1.5\n",
    "\n",
    "#今回はこれ\n",
    "#チャンネル数増やすならそれ用に作らないといけない\n",
    "if len(use_tots)==6:\n",
    "    \n",
    "    cons = (\n",
    "        {'type': 'ineq', 'fun': lambda Const: Const[0]-error_less},\n",
    "        {'type': 'ineq', 'fun': lambda Const: -Const[0]+error_more},\n",
    "        {'type': 'ineq', 'fun': lambda Const: Const[1]-error_less},\n",
    "        {'type': 'ineq', 'fun': lambda Const: -Const[1]+error_more},\n",
    "        {'type': 'ineq', 'fun': lambda Const: Const[2]-error_less},\n",
    "        {'type': 'ineq', 'fun': lambda Const: -Const[2]+error_more},\n",
    "        {'type': 'ineq', 'fun': lambda Const: Const[3]-error_less},\n",
    "        {'type': 'ineq', 'fun': lambda Const: -Const[3]+error_more},\n",
    "        {'type': 'ineq', 'fun': lambda Const: Const[4]-error_less},\n",
    "        {'type': 'ineq', 'fun': lambda Const: -Const[4]+error_more},\n",
    "        {'type': 'ineq', 'fun': lambda Const: Const[5]-error_less},\n",
    "        {'type': 'ineq', 'fun': lambda Const: -Const[5]+error_more},\n",
    "\n",
    "        {'type': 'ineq', 'fun': lambda Const:  Const[6]},\n",
    "        # {'type': 'ineq', 'fun': lambda Const:  1-Const[6]},\n",
    "\n",
    "        {'type': 'ineq', 'fun': lambda Const: Const[1]*W_IDEAL[1] - Const[0]*W_IDEAL[0]},\n",
    "        {'type': 'ineq', 'fun': lambda Const: Const[2]*W_IDEAL[2] - Const[1]*W_IDEAL[1]},\n",
    "        {'type': 'ineq', 'fun': lambda Const: Const[3]*W_IDEAL[3] - Const[2]*W_IDEAL[2]},\n",
    "        {'type': 'ineq', 'fun': lambda Const: Const[4]*W_IDEAL[4] - Const[3]*W_IDEAL[3]},\n",
    "        {'type': 'ineq', 'fun': lambda Const: Const[5]*W_IDEAL[5] - Const[4]*W_IDEAL[4]},\n",
    "        )\n",
    "\n",
    "#その他の時\n",
    "if len(use_tots)==7:\n",
    "    \n",
    "    cons = (\n",
    "        {'type': 'ineq', 'fun': lambda Const: Const[0]-error_less},\n",
    "        {'type': 'ineq', 'fun': lambda Const: -Const[0]+error_more},\n",
    "        {'type': 'ineq', 'fun': lambda Const: Const[1]-error_less},\n",
    "        {'type': 'ineq', 'fun': lambda Const: -Const[1]+error_more},\n",
    "        {'type': 'ineq', 'fun': lambda Const: Const[2]-error_less},\n",
    "        {'type': 'ineq', 'fun': lambda Const: -Const[2]+error_more},\n",
    "        {'type': 'ineq', 'fun': lambda Const: Const[3]-error_less},\n",
    "        {'type': 'ineq', 'fun': lambda Const: -Const[3]+error_more},\n",
    "        {'type': 'ineq', 'fun': lambda Const: Const[4]-error_less},\n",
    "        {'type': 'ineq', 'fun': lambda Const: -Const[4]+error_more},\n",
    "        {'type': 'ineq', 'fun': lambda Const: Const[5]-error_less},\n",
    "        {'type': 'ineq', 'fun': lambda Const: -Const[5]+error_more},\n",
    "        {'type': 'ineq', 'fun': lambda Const: Const[6]-error_less},\n",
    "        {'type': 'ineq', 'fun': lambda Const: -Const[6]+error_more},\n",
    "        \n",
    "        {'type': 'ineq', 'fun': lambda Const:  Const[7]},\n",
    "        # {'type': 'ineq', 'fun': lambda Const:  1-Const[6]},\n",
    "\n",
    "        {'type': 'ineq', 'fun': lambda Const: Const[1]*W_IDEAL[1] - Const[0]*W_IDEAL[0]},\n",
    "        {'type': 'ineq', 'fun': lambda Const: Const[2]*W_IDEAL[2] - Const[1]*W_IDEAL[1]},\n",
    "        {'type': 'ineq', 'fun': lambda Const: Const[3]*W_IDEAL[3] - Const[2]*W_IDEAL[2]},\n",
    "        {'type': 'ineq', 'fun': lambda Const: Const[4]*W_IDEAL[4] - Const[3]*W_IDEAL[3]},\n",
    "        {'type': 'ineq', 'fun': lambda Const: Const[5]*W_IDEAL[5] - Const[4]*W_IDEAL[4]},\n",
    "        {'type': 'ineq', 'fun': lambda Const: Const[6]*W_IDEAL[6] - Const[5]*W_IDEAL[5]},\n",
    "        )\n",
    "if len(use_tots)==8:\n",
    "    cons = (\n",
    "        {'type': 'ineq', 'fun': lambda Const: Const[0]-error_less},\n",
    "        {'type': 'ineq', 'fun': lambda Const: -Const[0]+error_more},\n",
    "        {'type': 'ineq', 'fun': lambda Const: Const[1]-error_less},\n",
    "        {'type': 'ineq', 'fun': lambda Const: -Const[1]+error_more},\n",
    "        {'type': 'ineq', 'fun': lambda Const: Const[2]-error_less},\n",
    "        {'type': 'ineq', 'fun': lambda Const: -Const[2]+error_more},\n",
    "        {'type': 'ineq', 'fun': lambda Const: Const[3]-error_less},\n",
    "        {'type': 'ineq', 'fun': lambda Const: -Const[3]+error_more},\n",
    "        {'type': 'ineq', 'fun': lambda Const: Const[4]-error_less},\n",
    "        {'type': 'ineq', 'fun': lambda Const: -Const[4]+error_more},\n",
    "        {'type': 'ineq', 'fun': lambda Const: Const[5]-error_less},\n",
    "        {'type': 'ineq', 'fun': lambda Const: -Const[5]+error_more},\n",
    "        {'type': 'ineq', 'fun': lambda Const: Const[6]-error_less},\n",
    "        {'type': 'ineq', 'fun': lambda Const: -Const[6]+error_more},\n",
    "        {'type': 'ineq', 'fun': lambda Const: Const[7]-error_less},\n",
    "        {'type': 'ineq', 'fun': lambda Const: -Const[7]+error_more},\n",
    "        \n",
    "        {'type': 'ineq', 'fun': lambda Const:  Const[8]},\n",
    "        # {'type': 'ineq', 'fun': lambda Const:  1-Const[6]},\n",
    "\n",
    "        {'type': 'ineq', 'fun': lambda Const: Const[1]*W_IDEAL[1] - Const[0]*W_IDEAL[0]},\n",
    "        {'type': 'ineq', 'fun': lambda Const: Const[2]*W_IDEAL[2] - Const[1]*W_IDEAL[1]},\n",
    "        {'type': 'ineq', 'fun': lambda Const: Const[3]*W_IDEAL[3] - Const[2]*W_IDEAL[2]},\n",
    "        {'type': 'ineq', 'fun': lambda Const: Const[4]*W_IDEAL[4] - Const[3]*W_IDEAL[3]},\n",
    "        {'type': 'ineq', 'fun': lambda Const: Const[5]*W_IDEAL[5] - Const[4]*W_IDEAL[4]},\n",
    "        {'type': 'ineq', 'fun': lambda Const: Const[6]*W_IDEAL[6] - Const[5]*W_IDEAL[5]},\n",
    "        {'type': 'ineq', 'fun': lambda Const: Const[7]*W_IDEAL[7] - Const[6]*W_IDEAL[6]},\n",
    "\n",
    "        )\n",
    "if len(use_tots)==9:\n",
    "    cons = (\n",
    "        {'type': 'ineq', 'fun': lambda Const: Const[0]-error_less},\n",
    "        {'type': 'ineq', 'fun': lambda Const: -Const[0]+error_more},\n",
    "        {'type': 'ineq', 'fun': lambda Const: Const[1]-error_less},\n",
    "        {'type': 'ineq', 'fun': lambda Const: -Const[1]+error_more},\n",
    "        {'type': 'ineq', 'fun': lambda Const: Const[2]-error_less},\n",
    "        {'type': 'ineq', 'fun': lambda Const: -Const[2]+error_more},\n",
    "        {'type': 'ineq', 'fun': lambda Const: Const[3]-error_less},\n",
    "        {'type': 'ineq', 'fun': lambda Const: -Const[3]+error_more},\n",
    "        {'type': 'ineq', 'fun': lambda Const: Const[4]-error_less},\n",
    "        {'type': 'ineq', 'fun': lambda Const: -Const[4]+error_more},\n",
    "        {'type': 'ineq', 'fun': lambda Const: Const[5]-error_less},\n",
    "        {'type': 'ineq', 'fun': lambda Const: -Const[5]+error_more},\n",
    "        {'type': 'ineq', 'fun': lambda Const: Const[6]-error_less},\n",
    "        {'type': 'ineq', 'fun': lambda Const: -Const[6]+error_more},\n",
    "        {'type': 'ineq', 'fun': lambda Const: Const[7]-error_less},\n",
    "        {'type': 'ineq', 'fun': lambda Const: -Const[7]+error_more},\n",
    "        {'type': 'ineq', 'fun': lambda Const: Const[8]-error_less},\n",
    "        {'type': 'ineq', 'fun': lambda Const: -Const[8]+error_more},\n",
    "        \n",
    "        {'type': 'ineq', 'fun': lambda Const:  Const[9]},\n",
    "        # {'type': 'ineq', 'fun': lambda Const:  1-Const[6]},\n",
    "\n",
    "        {'type': 'ineq', 'fun': lambda Const: Const[1]*W_IDEAL[1] - Const[0]*W_IDEAL[0]},\n",
    "        {'type': 'ineq', 'fun': lambda Const: Const[2]*W_IDEAL[2] - Const[1]*W_IDEAL[1]},\n",
    "        {'type': 'ineq', 'fun': lambda Const: Const[3]*W_IDEAL[3] - Const[2]*W_IDEAL[2]},\n",
    "        {'type': 'ineq', 'fun': lambda Const: Const[4]*W_IDEAL[4] - Const[3]*W_IDEAL[3]},\n",
    "        {'type': 'ineq', 'fun': lambda Const: Const[5]*W_IDEAL[5] - Const[4]*W_IDEAL[4]},\n",
    "        {'type': 'ineq', 'fun': lambda Const: Const[6]*W_IDEAL[6] - Const[5]*W_IDEAL[5]},\n",
    "        {'type': 'ineq', 'fun': lambda Const: Const[7]*W_IDEAL[7] - Const[6]*W_IDEAL[6]},\n",
    "        {'type': 'ineq', 'fun': lambda Const: Const[8]*W_IDEAL[8] - Const[7]*W_IDEAL[7]},\n",
    "        )  \n",
    "if len(use_tots)==10:\n",
    "    cons = (\n",
    "        {'type': 'ineq', 'fun': lambda Const: Const[0]-error_less},\n",
    "        {'type': 'ineq', 'fun': lambda Const: -Const[0]+error_more},\n",
    "        {'type': 'ineq', 'fun': lambda Const: Const[1]-error_less},\n",
    "        {'type': 'ineq', 'fun': lambda Const: -Const[1]+error_more},\n",
    "        {'type': 'ineq', 'fun': lambda Const: Const[2]-error_less},\n",
    "        {'type': 'ineq', 'fun': lambda Const: -Const[2]+error_more},\n",
    "        {'type': 'ineq', 'fun': lambda Const: Const[3]-error_less},\n",
    "        {'type': 'ineq', 'fun': lambda Const: -Const[3]+error_more},\n",
    "        {'type': 'ineq', 'fun': lambda Const: Const[4]-error_less},\n",
    "        {'type': 'ineq', 'fun': lambda Const: -Const[4]+error_more},\n",
    "        {'type': 'ineq', 'fun': lambda Const: Const[5]-error_less},\n",
    "        {'type': 'ineq', 'fun': lambda Const: -Const[5]+error_more},\n",
    "        {'type': 'ineq', 'fun': lambda Const: Const[6]-error_less},\n",
    "        {'type': 'ineq', 'fun': lambda Const: -Const[6]+error_more},\n",
    "        {'type': 'ineq', 'fun': lambda Const: Const[7]-error_less},\n",
    "        {'type': 'ineq', 'fun': lambda Const: -Const[7]+error_more},\n",
    "        {'type': 'ineq', 'fun': lambda Const: Const[8]-error_less},\n",
    "        {'type': 'ineq', 'fun': lambda Const: -Const[8]+error_more},\n",
    "        {'type': 'ineq', 'fun': lambda Const: Const[9]-error_less},\n",
    "        {'type': 'ineq', 'fun': lambda Const: -Const[9]+error_more},\n",
    "        \n",
    "        {'type': 'ineq', 'fun': lambda Const:  Const[10]},\n",
    "        # {'type': 'ineq', 'fun': lambda Const:  1-Const[6]},\n",
    "\n",
    "        {'type': 'ineq', 'fun': lambda Const: Const[1]*W_IDEAL[1] - Const[0]*W_IDEAL[0]},\n",
    "        {'type': 'ineq', 'fun': lambda Const: Const[2]*W_IDEAL[2] - Const[1]*W_IDEAL[1]},\n",
    "        {'type': 'ineq', 'fun': lambda Const: Const[3]*W_IDEAL[3] - Const[2]*W_IDEAL[2]},\n",
    "        {'type': 'ineq', 'fun': lambda Const: Const[4]*W_IDEAL[4] - Const[3]*W_IDEAL[3]},\n",
    "        {'type': 'ineq', 'fun': lambda Const: Const[5]*W_IDEAL[5] - Const[4]*W_IDEAL[4]},\n",
    "        {'type': 'ineq', 'fun': lambda Const: Const[6]*W_IDEAL[6] - Const[5]*W_IDEAL[5]},\n",
    "        {'type': 'ineq', 'fun': lambda Const: Const[7]*W_IDEAL[7] - Const[6]*W_IDEAL[6]},\n",
    "        {'type': 'ineq', 'fun': lambda Const: Const[8]*W_IDEAL[8] - Const[7]*W_IDEAL[7]},\n",
    "        {'type': 'ineq', 'fun': lambda Const: Const[9]*W_IDEAL[9] - Const[8]*W_IDEAL[8]},\n",
    "\n",
    "        )    \n",
    "if len(use_tots)==5:\n",
    "        cons = (\n",
    "        {'type': 'ineq', 'fun': lambda Const: Const[0]-error_less},\n",
    "        {'type': 'ineq', 'fun': lambda Const: -Const[0]+error_more},\n",
    "        {'type': 'ineq', 'fun': lambda Const: Const[1]-error_less},\n",
    "        {'type': 'ineq', 'fun': lambda Const: -Const[1]+error_more},\n",
    "        {'type': 'ineq', 'fun': lambda Const: Const[2]-error_less},\n",
    "        {'type': 'ineq', 'fun': lambda Const: -Const[2]+error_more},\n",
    "        {'type': 'ineq', 'fun': lambda Const: Const[3]-error_less},\n",
    "        {'type': 'ineq', 'fun': lambda Const: -Const[3]+error_more},\n",
    "        {'type': 'ineq', 'fun': lambda Const: Const[4]-error_less},\n",
    "        {'type': 'ineq', 'fun': lambda Const: -Const[4]+error_more},\n",
    "\n",
    "\n",
    "        {'type': 'ineq', 'fun': lambda Const:  Const[5]},\n",
    "        # {'type': 'ineq', 'fun': lambda Const:  1-Const[6]},\n",
    "\n",
    "        {'type': 'ineq', 'fun': lambda Const: Const[1]*W_IDEAL[1] - Const[0]*W_IDEAL[0]},\n",
    "        {'type': 'ineq', 'fun': lambda Const: Const[2]*W_IDEAL[2] - Const[1]*W_IDEAL[1]},\n",
    "        {'type': 'ineq', 'fun': lambda Const: Const[3]*W_IDEAL[3] - Const[2]*W_IDEAL[2]},\n",
    "        {'type': 'ineq', 'fun': lambda Const: Const[4]*W_IDEAL[4] - Const[3]*W_IDEAL[3]},\n",
    "        )\n",
    "if len(use_tots)==4:\n",
    "        cons = (\n",
    "        {'type': 'ineq', 'fun': lambda Const: Const[0]-error_less},\n",
    "        {'type': 'ineq', 'fun': lambda Const: -Const[0]+error_more},\n",
    "        {'type': 'ineq', 'fun': lambda Const: Const[1]-error_less},\n",
    "        {'type': 'ineq', 'fun': lambda Const: -Const[1]+error_more},\n",
    "        {'type': 'ineq', 'fun': lambda Const: Const[2]-error_less},\n",
    "        {'type': 'ineq', 'fun': lambda Const: -Const[2]+error_more},\n",
    "        {'type': 'ineq', 'fun': lambda Const: Const[3]-error_less},\n",
    "        {'type': 'ineq', 'fun': lambda Const: -Const[3]+error_more},\n",
    "\n",
    "        {'type': 'ineq', 'fun': lambda Const:  Const[4]},\n",
    "        # {'type': 'ineq', 'fun': lambda Const:  1-Const[6]},\n",
    "\n",
    "        {'type': 'ineq', 'fun': lambda Const: Const[1]*W_IDEAL[1] - Const[0]*W_IDEAL[0]},\n",
    "        {'type': 'ineq', 'fun': lambda Const: Const[2]*W_IDEAL[2] - Const[1]*W_IDEAL[1]},\n",
    "        {'type': 'ineq', 'fun': lambda Const: Const[3]*W_IDEAL[3] - Const[2]*W_IDEAL[2]},\n",
    "        )\n",
    "\n",
    "###############################################\n",
    "#動的に制約条件を作成しようとして失敗したやつ．\n",
    "#エラーは出ないが，なぜか制約条件通りにminmizeしない       \n",
    "# cons_for_beta = []\n",
    "# for i in range(len(use_tots)):\n",
    "#     cons_for_beta.append({'type': 'ineq', 'fun': lambda Const: Const[i]-error_less})\n",
    "#     cons_for_beta.append({'type': 'ineq', 'fun': lambda Const: -Const[i]+error_more})\n",
    "\n",
    "# # Cの制約条件\n",
    "# cons_for_c = [{'type': 'ineq', 'fun': lambda Const: Const[len(use_tots)]}]\n",
    "\n",
    "# # 前のw*betaが次のw*betaを超えたらダメ\n",
    "# cons_for_limit = []\n",
    "# for i in range(len(use_tots)-1):\n",
    "#     cons_for_limit.append({'type': 'ineq', 'fun': lambda Const: Const[i+1]*W_IDEAL_use[i+1] - Const[i]*W_IDEAL_use[i]})\n",
    "\n",
    "# cons_all = cons_for_beta + cons_for_c + cons_for_limit\n",
    "# # cons_all = []\n",
    "# cons = tuple(cons_all)\n",
    "# print(cons)"
   ]
  },
  {
   "cell_type": "markdown",
   "metadata": {},
   "source": [
    "ここで，最小化問題を解くライブラリを使って関数を作る"
   ]
  },
  {
   "cell_type": "code",
   "execution_count": 101,
   "metadata": {
    "ExecuteTime": {
     "end_time": "2020-02-20T00:50:39.127630Z",
     "start_time": "2020-02-20T00:50:39.117659Z"
    },
    "code_folding": []
   },
   "outputs": [],
   "source": [
    "def opt_func(func, cons):\n",
    "    Const0 = np.append(np.random.rand(len(use_tots)), 2)# 初期値を設定．値は適当\n",
    "    result = minimize(func, x0=Const0, constraints=cons, method=\"COBYLA\", options={'maxiter':10000})\n",
    "    return result"
   ]
  },
  {
   "cell_type": "markdown",
   "metadata": {},
   "source": [
    "一回走らせてみる"
   ]
  },
  {
   "cell_type": "code",
   "execution_count": 102,
   "metadata": {
    "ExecuteTime": {
     "end_time": "2020-02-20T00:50:41.003943Z",
     "start_time": "2020-02-20T00:50:39.131753Z"
    }
   },
   "outputs": [
    {
     "data": {
      "text/plain": [
       "     fun: 0.21312081912105355\n",
       "   maxcv: 0.0\n",
       " message: 'Optimization terminated successfully.'\n",
       "    nfev: 297\n",
       "  status: 1\n",
       " success: True\n",
       "       x: array([1.07611017, 0.92955566, 0.75574604, 0.89414069, 0.63867192,\n",
       "       0.59309572, 1.11258436])"
      ]
     },
     "execution_count": 102,
     "metadata": {},
     "output_type": "execute_result"
    }
   ],
   "source": [
    "opt_func(func, cons)"
   ]
  },
  {
   "cell_type": "markdown",
   "metadata": {},
   "source": [
    "大体同じ傾向で数字が算出されるが，局所解に落ち着いてしまい，大局解が算出されないことがある．  \n",
    "そこで，繰り返しopt_funcを走らせて，funが最小のものを使うことにする"
   ]
  },
  {
   "cell_type": "code",
   "execution_count": 103,
   "metadata": {
    "ExecuteTime": {
     "end_time": "2020-02-20T00:50:41.018902Z",
     "start_time": "2020-02-20T00:50:41.009927Z"
    }
   },
   "outputs": [],
   "source": [
    "def repeat_opt_func(func, repeat, cons):\n",
    "    '''\n",
    "    repeatの数だけopt_funcを繰り返す．一番fungが最小の物がbest_result\n",
    "    '''\n",
    "\n",
    "    temp = 1000000000 \n",
    "    results = []\n",
    "    for _ in range(repeat):\n",
    "        result = opt_func(func, cons)\n",
    "        \n",
    "        if result.fun < temp:\n",
    "            results.append(result)\n",
    "            temp = result.fun\n",
    "#             print('func : ', temp)\n",
    "#             print('x : ', result.x)\n",
    "    best_result = results[-1]\n",
    "    \n",
    "    return best_result, results\n"
   ]
  },
  {
   "cell_type": "code",
   "execution_count": 104,
   "metadata": {
    "ExecuteTime": {
     "end_time": "2020-02-20T00:52:06.885234Z",
     "start_time": "2020-02-20T00:50:41.022891Z"
    },
    "scrolled": false
   },
   "outputs": [
    {
     "name": "stdout",
     "output_type": "stream",
     "text": [
      "     fun: 0.21174228555867353\n",
      "   maxcv: -0.0\n",
      " message: 'Optimization terminated successfully.'\n",
      "    nfev: 116\n",
      "  status: 1\n",
      " success: True\n",
      "       x: array([1.48121262, 1.01002884, 0.76750361, 0.50603537, 0.5       ,\n",
      "       0.56874888, 1.21417108])\n"
     ]
    }
   ],
   "source": [
    "#大体おおよそ同じくらいの結果が毎回出るようになるはず．出ない場合はrepeatを1000とかに増やす\n",
    "best_result, results = repeat_opt_func(func, repeat=100, cons=cons)\n",
    "print(best_result)"
   ]
  },
  {
   "cell_type": "code",
   "execution_count": 105,
   "metadata": {
    "ExecuteTime": {
     "end_time": "2020-02-20T00:52:06.902188Z",
     "start_time": "2020-02-20T00:52:06.890276Z"
    }
   },
   "outputs": [
    {
     "name": "stdout",
     "output_type": "stream",
     "text": [
      "beta: [1.48121262 1.01002884 0.76750361 0.50603537 0.5        0.56874888]\n",
      "C: 1.2141710788746767\n"
     ]
    }
   ],
   "source": [
    "list_beta = best_result.x[:-1]\n",
    "C = best_result.x[-1]\n",
    "print('beta:', list_beta)\n",
    "print('C:', C)"
   ]
  },
  {
   "cell_type": "markdown",
   "metadata": {},
   "source": [
    "# 粒径毎流砂量算出"
   ]
  },
  {
   "cell_type": "markdown",
   "metadata": {},
   "source": [
    "対象期間全体における流砂量を算出する.df_all_diffに全部入っているのでそれをdf_train,testと同じように整理"
   ]
  },
  {
   "cell_type": "code",
   "execution_count": 106,
   "metadata": {
    "ExecuteTime": {
     "end_time": "2020-02-20T00:52:10.874665Z",
     "start_time": "2020-02-20T00:52:06.905180Z"
    }
   },
   "outputs": [],
   "source": [
    "#df_all_diffを使うデータだけに絞る\n",
    "df_all_diff_use = df_all_diff[coluses]\n",
    "#30分平均をとる\n",
    "df_all_diff_use = mean_of_df(df_all_diff_use, meantime=meantime)"
   ]
  },
  {
   "cell_type": "code",
   "execution_count": 107,
   "metadata": {
    "ExecuteTime": {
     "end_time": "2020-02-20T00:52:10.926525Z",
     "start_time": "2020-02-20T00:52:10.881646Z"
    }
   },
   "outputs": [],
   "source": [
    "# 整理\n",
    "df_all_diff_use = organize_dfs(df_all_diff_use)\n",
    "\n",
    "#trainデータ\n",
    "df_optimize_all, waterleve_all, qobs_all = splitdf_dfoptimize_wl_qobs(df_all_diff_use, use_tots=use_tots)"
   ]
  },
  {
   "cell_type": "markdown",
   "metadata": {},
   "source": [
    "流砂量を算出する"
   ]
  },
  {
   "cell_type": "code",
   "execution_count": 108,
   "metadata": {
    "ExecuteTime": {
     "end_time": "2020-02-20T00:52:10.953454Z",
     "start_time": "2020-02-20T00:52:10.936883Z"
    }
   },
   "outputs": [],
   "source": [
    "def calc_q(df_optimize, waterlevel, list_beta, C, W_IDEAL_use, f_n, alpha):\n",
    "    \n",
    "    \n",
    "    #計算しやすいよう変換\n",
    "    array_beta = np.array(list_beta)\n",
    "    #gammaを算出\n",
    "\n",
    "    gammas = calc_gammas(series_wl=waterlevel)\n",
    "    df_qcalc_each = (df_optimize.mul(W_IDEAL_use.reshape(1,len(W_IDEAL_use))).mul(array_beta.reshape(1,len(W_IDEAL_use)))) / np.array(gammas) \n",
    "    df_qcalc_each_sum = df_qcalc_each.sum(axis=1)\n",
    "    df_qcalc = df_qcalc_each_sum * (C/(f_n*alpha))\n",
    "    \n",
    "    return df_qcalc, df_qcalc_each"
   ]
  },
  {
   "cell_type": "markdown",
   "metadata": {},
   "source": [
    "ここで，全体の流砂量と粒径別流砂量を算出した．以下ではこの結果を用いて色々コードを書いていく"
   ]
  },
  {
   "cell_type": "code",
   "execution_count": 109,
   "metadata": {
    "ExecuteTime": {
     "end_time": "2020-02-20T00:52:53.858942Z",
     "start_time": "2020-02-20T00:52:10.958903Z"
    }
   },
   "outputs": [
    {
     "name": "stderr",
     "output_type": "stream",
     "text": [
      "C:\\Users\\user\\OneDrive - Kyoto University\\shared-Yutaka\\Research\\Hydrophone_Higashi_MastersThesis\\my_module\\sklardietrich.py:135: RuntimeWarning: invalid value encountered in double_scalars\n",
      "  h_s = (1.44*((tau_star/tau_star_c)-1)**0.5)*d\n"
     ]
    }
   ],
   "source": [
    "qcalc_all, df_qcalc_each_all = calc_q(df_optimize_all, waterleve_all, list_beta, C, W_IDEAL_use, f_n=f_n, alpha=alpha)"
   ]
  },
  {
   "cell_type": "markdown",
   "metadata": {},
   "source": [
    "これで，対象期間の流砂量が算出された．"
   ]
  },
  {
   "cell_type": "code",
   "execution_count": 110,
   "metadata": {
    "ExecuteTime": {
     "end_time": "2020-02-20T00:52:54.470901Z",
     "start_time": "2020-02-20T00:52:53.862856Z"
    },
    "scrolled": false
   },
   "outputs": [
    {
     "data": {
      "image/png": "[encoded data removed]",
      "text/plain": [
       "<Figure size 1080x360 with 1 Axes>"
      ]
     },
     "metadata": {
      "needs_background": "light"
     },
     "output_type": "display_data"
    }
   ],
   "source": [
    "# trainのピット内増減を表示\n",
    "colname = 'Load_Avg'\n",
    "plt.figure(figsize=(15,5))\n",
    "qcalc_all.plot()\n",
    "plt.ylabel('Qcalc [kg m$^{-1}$]')\n",
    "plt.xlabel('')\n",
    "\n",
    "plt.show()"
   ]
  },
  {
   "cell_type": "markdown",
   "metadata": {},
   "source": [
    "（訓練データのみ）縦軸に，算出流砂量，横軸にピット流砂量の散布図，決定係数もついでに算出"
   ]
  },
  {
   "cell_type": "code",
   "execution_count": 111,
   "metadata": {
    "ExecuteTime": {
     "end_time": "2020-02-20T00:52:54.936566Z",
     "start_time": "2020-02-20T00:52:54.475798Z"
    }
   },
   "outputs": [
    {
     "data": {
      "text/plain": [
       "0.9344330882179295"
      ]
     },
     "execution_count": 111,
     "metadata": {},
     "output_type": "execute_result"
    },
    {
     "data": {
      "image/png": "[encoded data removed]",
      "text/plain": [
       "<Figure size 360x360 with 1 Axes>"
      ]
     },
     "metadata": {
      "needs_background": "light"
     },
     "output_type": "display_data"
    }
   ],
   "source": [
    "plt.figure(figsize=(5,5))\n",
    "plt.scatter(qobs_train, qcalc_all[qobs_train.index])\n",
    "from sklearn.metrics import r2_score\n",
    "r2_score(qobs_train, qcalc_all[qobs_train.index]) "
   ]
  },
  {
   "cell_type": "code",
   "execution_count": 112,
   "metadata": {
    "ExecuteTime": {
     "end_time": "2020-02-20T00:52:54.959503Z",
     "start_time": "2020-02-20T00:52:54.942178Z"
    }
   },
   "outputs": [],
   "source": [
    "def qcalc_sum_period(qcalc, start=None, end=None):\n",
    "    '''\n",
    "    start,endは指定なければqcalc全体の総量になる\n",
    "    '''\n",
    "    if start == None:\n",
    "        start = qcalc.index[0]\n",
    "    if end == None:\n",
    "        end = qcalc.index[-1]\n",
    "    #30分平均での/minなので，30倍する\n",
    "    qcalc_sum = qcalc[start:end].sum()*30\n",
    "    \n",
    "    return qcalc_sum\n",
    "\n",
    "def qcalc_each_sum_period(df_qcalc_each, start=None, end=None):\n",
    "    '''\n",
    "    start,endは指定なければqcalc全体の総量になる\n",
    "    '''\n",
    "    if start == None:\n",
    "        start = df_qcalc_each.index[0]\n",
    "    if end == None:\n",
    "        end = df_qcalc_each.index[-1]\n",
    "    #30分平均での/minなので，30倍する\n",
    "    qcalc_sum_each = df_qcalc_each[start:end].sum()*30\n",
    "    \n",
    "    return qcalc_sum_each"
   ]
  },
  {
   "cell_type": "markdown",
   "metadata": {},
   "source": [
    " start,endは指定なければqcalc全体の総量になる．\n",
    " 指定した区間の流砂量の総量を算出"
   ]
  },
  {
   "cell_type": "code",
   "execution_count": 113,
   "metadata": {
    "ExecuteTime": {
     "end_time": "2020-02-20T00:52:54.972469Z",
     "start_time": "2020-02-20T00:52:54.962496Z"
    }
   },
   "outputs": [],
   "source": [
    "def print_qcalc_each(qcalc_all, df_qcalc_each_all, start, end):\n",
    "    qcalc_sum_all = qcalc_sum_period(qcalc_all, start=start, end=end)\n",
    "    qcalc_sum_each_all = qcalc_each_sum_period(df_qcalc_each_all, start=start, end=end)\n",
    "    print('流砂量({}~{})：'.format(start, end),qcalc_sum_all)\n",
    "    TARGET_TOT_use = TARGET_TOT[-len(use_tots):]\n",
    "    for i in range(len(TARGET_TOT_use)):\n",
    "        print('粒径別{}'.format(TARGET_TOT_use[i]), qcalc_sum_each_all[i], 'kg')"
   ]
  },
  {
   "cell_type": "code",
   "execution_count": 114,
   "metadata": {
    "ExecuteTime": {
     "end_time": "2020-02-20T00:52:55.029317Z",
     "start_time": "2020-02-20T00:52:54.975461Z"
    }
   },
   "outputs": [
    {
     "name": "stdout",
     "output_type": "stream",
     "text": [
      "流砂量(2017-01-01 0:00~2017-12-31 23:59)： 207127.14906950257\n",
      "粒径別8.5-10mm 3678.003030292148 kg\n",
      "粒径別10-12.5mm 2798.470945063309 kg\n",
      "粒径別12.5-15mm 2349.780928286713 kg\n",
      "粒径別15-20mm 3066.4224644726114 kg\n",
      "粒径別20-30mm 5306.4624181477475 kg\n",
      "粒径別30mm- 18669.9071114642 kg\n",
      "流砂量(2018-01-01 0:00~2018-12-31 23:59)： 185612.38440516967\n",
      "粒径別8.5-10mm 4425.077450824031 kg\n",
      "粒径別10-12.5mm 3551.523772679959 kg\n",
      "粒径別12.5-15mm 2518.114872710515 kg\n",
      "粒径別15-20mm 2722.4427289547534 kg\n",
      "粒径別20-30mm 4416.3056631302325 kg\n",
      "粒径別30mm- 14509.783516305764 kg\n"
     ]
    }
   ],
   "source": [
    "#例えば，2017年の流砂量と粒径別流砂量\n",
    "print_qcalc_each(qcalc_all, df_qcalc_each_all, start='2017-01-01 0:00', end='2017-12-31 23:59')\n",
    "#例えば，2018年の流砂量と粒径別流砂量\n",
    "print_qcalc_each(qcalc_all, df_qcalc_each_all, start='2018-01-01 0:00', end='2018-12-31 23:59')"
   ]
  },
  {
   "cell_type": "markdown",
   "metadata": {},
   "source": [
    "# 精度検証"
   ]
  },
  {
   "cell_type": "markdown",
   "metadata": {},
   "source": [
    "## 流砂量の比較"
   ]
  },
  {
   "cell_type": "code",
   "execution_count": 115,
   "metadata": {
    "ExecuteTime": {
     "end_time": "2020-02-20T00:52:55.070208Z",
     "start_time": "2020-02-20T00:52:55.034305Z"
    }
   },
   "outputs": [],
   "source": [
    "def score_r2(obs, calc):\n",
    "    if (len(calc.index)>0) and (len(obs.index)>0):\n",
    "        score = r2_score(obs, calc)\n",
    "    \n",
    "    return(score)\n",
    "\n",
    "def compare_qcalc_qobs(qcalc_all, qobs, start, end, zoomout=True):\n",
    "    '''\n",
    "    この期間は，PitTrueの期間でないと意味ない\n",
    "    zoomout:Trueのとき，qcalcとqobsが両方ある区間のみの比較\n",
    "    '''\n",
    "    qobs_all_selected = qobs[start:end]\n",
    "    qcalc_selected = qcalc_all[start:end]\n",
    "\n",
    "    if zoomout:\n",
    "        qcalc_selected = qcalc_selected[qobs_all_selected.index]\n",
    "        \n",
    "    qobs_sum = qobs_all_selected.sum()\n",
    "    qcalc_sum = qcalc_selected.sum()\n",
    "    print('qobs : ', qobs_sum)\n",
    "    print('qcalc : ', qcalc_sum)\n",
    "    \n",
    "    plt.figure(figsize=(15,5))\n",
    "    ax = plt.subplot(1,1,1) \n",
    "\n",
    "    ax.plot(qcalc_selected, label='calc.')\n",
    "    ax.plot(qobs_all_selected, label='obs.')\n",
    "    ax.set_ylabel('Bedload discharge\\n[kg m$^{-1}$ min$^{-1}$]')\n",
    "    ax.set_xlabel('')\n",
    "    ax.legend()\n",
    "    labels = ax.get_xticklabels()\n",
    "    plt.setp(labels, rotation=45)\n",
    "#     plt.show()\n",
    "    \n",
    "    score = score_r2(qobs_all_selected, qcalc_selected)\n",
    "    print('決定係数：', score) \n",
    "\n",
    "def compare_qcalc_qobs_add_each(qcalc_all, df_qcalc_each_all, qobs, start, end, zoomout=True):\n",
    "    df_qcalc_each_all_selected = df_qcalc_each_all[start:end]\n",
    "    qobs_all_selected = qobs[start:end]\n",
    "\n",
    "    if zoomout:\n",
    "        df_qcalc_each_all_selected = df_qcalc_each_all_selected[qobs_all_selected.index[0]:qobs_all_selected.index[-1]]\n",
    "    compare_qcalc_qobs(qcalc_all, qobs, start, end, zoomout=zoomout)\n",
    "    plt.plot(df_qcalc_each_all_selected)"
   ]
  },
  {
   "cell_type": "markdown",
   "metadata": {},
   "source": [
    "試しに上のセルで作った関数を適応してみる．  \n",
    "時間を変えると違う期間での比較もできる"
   ]
  },
  {
   "cell_type": "code",
   "execution_count": 116,
   "metadata": {
    "ExecuteTime": {
     "end_time": "2020-02-20T00:52:55.682553Z",
     "start_time": "2020-02-20T00:52:55.074197Z"
    }
   },
   "outputs": [
    {
     "name": "stdout",
     "output_type": "stream",
     "text": [
      "qobs :  130.7075000000001\n",
      "qcalc :  56.031397697714496\n",
      "決定係数： 0.21057739942092513\n"
     ]
    },
    {
     "data": {
      "image/png": "[encoded data removed]",
      "text/plain": [
       "<Figure size 1080x360 with 1 Axes>"
      ]
     },
     "metadata": {
      "needs_background": "light"
     },
     "output_type": "display_data"
    }
   ],
   "source": [
    "compare_qcalc_qobs(qcalc_all=qcalc_all, qobs=qobs_test, start='2017-09-21 00:00:00', end='2017-09-23 00:00:00')"
   ]
  },
  {
   "cell_type": "code",
   "execution_count": 117,
   "metadata": {
    "ExecuteTime": {
     "end_time": "2020-02-20T00:52:56.322094Z",
     "start_time": "2020-02-20T00:52:55.685546Z"
    }
   },
   "outputs": [
    {
     "name": "stdout",
     "output_type": "stream",
     "text": [
      "qobs :  130.7075000000001\n",
      "qcalc :  56.031397697714496\n",
      "決定係数： 0.21057739942092513\n"
     ]
    },
    {
     "data": {
      "image/png": "[encoded data removed]",
      "text/plain": [
       "<Figure size 1080x360 with 1 Axes>"
      ]
     },
     "metadata": {
      "needs_background": "light"
     },
     "output_type": "display_data"
    }
   ],
   "source": [
    "compare_qcalc_qobs_add_each(qcalc_all=qcalc_all, df_qcalc_each_all=df_qcalc_each_all, qobs=qobs_test, start='2017-09-21 00:00:00', end='2017-09-23 00:00:00')"
   ]
  },
  {
   "cell_type": "code",
   "execution_count": 118,
   "metadata": {
    "ExecuteTime": {
     "end_time": "2020-02-20T00:52:56.957710Z",
     "start_time": "2020-02-20T00:52:56.327035Z"
    }
   },
   "outputs": [
    {
     "name": "stdout",
     "output_type": "stream",
     "text": [
      "qobs :  6.5353750000000055\n",
      "qcalc :  11.781325344459004\n",
      "決定係数： -1.1025456548253563\n"
     ]
    },
    {
     "data": {
      "image/png": "[encoded data removed]",
      "text/plain": [
       "<Figure size 1080x360 with 1 Axes>"
      ]
     },
     "metadata": {
      "needs_background": "light"
     },
     "output_type": "display_data"
    }
   ],
   "source": [
    "compare_qcalc_qobs(qcalc_all=qcalc_all*alpha, qobs=qobs_test*0.05, start='2017-09-21 00:00:00', end='2017-09-23 00:00:00')"
   ]
  },
  {
   "cell_type": "markdown",
   "metadata": {},
   "source": [
    "## ピットとの粒度分布との比較"
   ]
  },
  {
   "cell_type": "markdown",
   "metadata": {},
   "source": [
    "おさらいで，定義したふるいデータを見る．ふるい結果の番号は上から順に0（2017-11-23）,1（2018-04-28）,2（2018-07-16）"
   ]
  },
  {
   "cell_type": "code",
   "execution_count": 119,
   "metadata": {
    "ExecuteTime": {
     "end_time": "2020-02-20T00:52:57.004880Z",
     "start_time": "2020-02-20T00:52:56.960651Z"
    },
    "scrolled": true
   },
   "outputs": [
    {
     "name": "stdout",
     "output_type": "stream",
     "text": [
      "furui粒径界の上限 [1, 2, 5, 7, 9, 15, 31.5, 50]\n",
      "Tot粒径界の上限 [2, 5, 6, 7, 8.5, 10, 12.5, 15, 20, 30, 50]\n",
      "furui粒径界(g) ['-1mm(g)', '1-2mm(g)', '2-5mm(g)', '5-7mm(g)', '7-9mm(g)', '9-15mm(g)', '19-31.5mm(g)', '31.5mm-(g)']\n",
      "furui粒径界(%) ['-1mm(%)', '1-2mm(%)', '2-5mm(%)', '5-7mm(%)', '7-9mm(%)', '9-15mm(%)', '19-31.5mm(%)', '31.5mm-(%)']\n"
     ]
    },
    {
     "data": {
      "text/html": [
       "<div>\n",
       "<style scoped>\n",
       "    .dataframe tbody tr th:only-of-type {\n",
       "        vertical-align: middle;\n",
       "    }\n",
       "\n",
       "    .dataframe tbody tr th {\n",
       "        vertical-align: top;\n",
       "    }\n",
       "\n",
       "    .dataframe thead th {\n",
       "        text-align: right;\n",
       "    }\n",
       "</style>\n",
       "<table border=\"1\" class=\"dataframe\">\n",
       "  <thead>\n",
       "    <tr style=\"text-align: right;\">\n",
       "      <th></th>\n",
       "      <th>31.5mm-(g)</th>\n",
       "      <th>19-31.5mm(g)</th>\n",
       "      <th>9-15mm(g)</th>\n",
       "      <th>7-9mm(g)</th>\n",
       "      <th>5-7mm(g)</th>\n",
       "      <th>2-5mm(g)</th>\n",
       "      <th>1-2mm(g)</th>\n",
       "      <th>-1mm(g)</th>\n",
       "      <th>31.5mm-(%)</th>\n",
       "      <th>19-31.5mm(%)</th>\n",
       "      <th>9-15mm(%)</th>\n",
       "      <th>7-9mm(%)</th>\n",
       "      <th>5-7mm(%)</th>\n",
       "      <th>2-5mm(%)</th>\n",
       "      <th>1-2mm(%)</th>\n",
       "      <th>-1mm(%)</th>\n",
       "      <th>starttime</th>\n",
       "      <th>endtime</th>\n",
       "    </tr>\n",
       "    <tr>\n",
       "      <th>TIMESTAMP</th>\n",
       "      <th></th>\n",
       "      <th></th>\n",
       "      <th></th>\n",
       "      <th></th>\n",
       "      <th></th>\n",
       "      <th></th>\n",
       "      <th></th>\n",
       "      <th></th>\n",
       "      <th></th>\n",
       "      <th></th>\n",
       "      <th></th>\n",
       "      <th></th>\n",
       "      <th></th>\n",
       "      <th></th>\n",
       "      <th></th>\n",
       "      <th></th>\n",
       "      <th></th>\n",
       "      <th></th>\n",
       "    </tr>\n",
       "  </thead>\n",
       "  <tbody>\n",
       "    <tr>\n",
       "      <th>2017-11-23</th>\n",
       "      <td>134</td>\n",
       "      <td>507</td>\n",
       "      <td>1120</td>\n",
       "      <td>804</td>\n",
       "      <td>1557</td>\n",
       "      <td>2718</td>\n",
       "      <td>2163</td>\n",
       "      <td>3079</td>\n",
       "      <td>1.109088</td>\n",
       "      <td>4.196325</td>\n",
       "      <td>9.269988</td>\n",
       "      <td>6.654527</td>\n",
       "      <td>12.886939</td>\n",
       "      <td>22.496275</td>\n",
       "      <td>17.902665</td>\n",
       "      <td>25.484191</td>\n",
       "      <td>2017/9/21 0:00</td>\n",
       "      <td>2017/9/23 0:00</td>\n",
       "    </tr>\n",
       "    <tr>\n",
       "      <th>2017-11-23</th>\n",
       "      <td>0</td>\n",
       "      <td>61</td>\n",
       "      <td>423</td>\n",
       "      <td>439</td>\n",
       "      <td>1671</td>\n",
       "      <td>4498</td>\n",
       "      <td>3408</td>\n",
       "      <td>2147</td>\n",
       "      <td>0.000000</td>\n",
       "      <td>0.482328</td>\n",
       "      <td>3.344667</td>\n",
       "      <td>3.471179</td>\n",
       "      <td>13.212620</td>\n",
       "      <td>35.565747</td>\n",
       "      <td>26.947102</td>\n",
       "      <td>16.976358</td>\n",
       "      <td>2017/9/21 0:00</td>\n",
       "      <td>2017/9/23 0:00</td>\n",
       "    </tr>\n",
       "    <tr>\n",
       "      <th>2017-11-23</th>\n",
       "      <td>0</td>\n",
       "      <td>81</td>\n",
       "      <td>697</td>\n",
       "      <td>1091</td>\n",
       "      <td>2481</td>\n",
       "      <td>4775</td>\n",
       "      <td>2073</td>\n",
       "      <td>1296</td>\n",
       "      <td>0.000000</td>\n",
       "      <td>0.648311</td>\n",
       "      <td>5.578678</td>\n",
       "      <td>8.732191</td>\n",
       "      <td>19.857532</td>\n",
       "      <td>38.218345</td>\n",
       "      <td>16.591964</td>\n",
       "      <td>10.372979</td>\n",
       "      <td>2017/9/21 0:00</td>\n",
       "      <td>2017/9/23 0:00</td>\n",
       "    </tr>\n",
       "    <tr>\n",
       "      <th>2018-04-28</th>\n",
       "      <td>1172</td>\n",
       "      <td>1713</td>\n",
       "      <td>1690</td>\n",
       "      <td>787</td>\n",
       "      <td>1046</td>\n",
       "      <td>2125</td>\n",
       "      <td>2447</td>\n",
       "      <td>3634</td>\n",
       "      <td>8.019707</td>\n",
       "      <td>11.721637</td>\n",
       "      <td>11.564253</td>\n",
       "      <td>5.385247</td>\n",
       "      <td>7.157520</td>\n",
       "      <td>14.540851</td>\n",
       "      <td>16.744218</td>\n",
       "      <td>24.866566</td>\n",
       "      <td>2018/4/15 0:00</td>\n",
       "      <td>2018/4/28 0:00</td>\n",
       "    </tr>\n",
       "    <tr>\n",
       "      <th>2018-04-28</th>\n",
       "      <td>901</td>\n",
       "      <td>1223</td>\n",
       "      <td>1678</td>\n",
       "      <td>747</td>\n",
       "      <td>1226</td>\n",
       "      <td>2395</td>\n",
       "      <td>2619</td>\n",
       "      <td>3697</td>\n",
       "      <td>6.219798</td>\n",
       "      <td>8.442634</td>\n",
       "      <td>11.583598</td>\n",
       "      <td>5.156703</td>\n",
       "      <td>8.463344</td>\n",
       "      <td>16.533204</td>\n",
       "      <td>18.079525</td>\n",
       "      <td>25.521193</td>\n",
       "      <td>2018/4/15 0:00</td>\n",
       "      <td>2018/4/28 0:00</td>\n",
       "    </tr>\n",
       "    <tr>\n",
       "      <th>2018-04-28</th>\n",
       "      <td>1267</td>\n",
       "      <td>1086</td>\n",
       "      <td>1981</td>\n",
       "      <td>823</td>\n",
       "      <td>1174</td>\n",
       "      <td>2340</td>\n",
       "      <td>2386</td>\n",
       "      <td>3213</td>\n",
       "      <td>8.878767</td>\n",
       "      <td>7.610371</td>\n",
       "      <td>13.882270</td>\n",
       "      <td>5.767344</td>\n",
       "      <td>8.227050</td>\n",
       "      <td>16.398038</td>\n",
       "      <td>16.720392</td>\n",
       "      <td>22.515767</td>\n",
       "      <td>2018/4/15 0:00</td>\n",
       "      <td>2018/4/28 0:00</td>\n",
       "    </tr>\n",
       "    <tr>\n",
       "      <th>2018-07-16</th>\n",
       "      <td>387</td>\n",
       "      <td>551</td>\n",
       "      <td>975</td>\n",
       "      <td>372</td>\n",
       "      <td>530</td>\n",
       "      <td>1269</td>\n",
       "      <td>2048</td>\n",
       "      <td>3800</td>\n",
       "      <td>3.896496</td>\n",
       "      <td>5.547725</td>\n",
       "      <td>9.816754</td>\n",
       "      <td>3.745469</td>\n",
       "      <td>5.336287</td>\n",
       "      <td>12.776883</td>\n",
       "      <td>20.620217</td>\n",
       "      <td>38.260169</td>\n",
       "      <td>2018/5/1 0:00</td>\n",
       "      <td>2018/5/20 0:00</td>\n",
       "    </tr>\n",
       "    <tr>\n",
       "      <th>2018-07-16</th>\n",
       "      <td>458</td>\n",
       "      <td>678</td>\n",
       "      <td>1240</td>\n",
       "      <td>417</td>\n",
       "      <td>560</td>\n",
       "      <td>974</td>\n",
       "      <td>1211</td>\n",
       "      <td>2502</td>\n",
       "      <td>5.696517</td>\n",
       "      <td>8.432836</td>\n",
       "      <td>15.422886</td>\n",
       "      <td>5.186567</td>\n",
       "      <td>6.965174</td>\n",
       "      <td>12.114428</td>\n",
       "      <td>15.062189</td>\n",
       "      <td>31.119403</td>\n",
       "      <td>2018/5/1 0:00</td>\n",
       "      <td>2018/5/20 0:00</td>\n",
       "    </tr>\n",
       "    <tr>\n",
       "      <th>2018-07-16</th>\n",
       "      <td>866</td>\n",
       "      <td>854</td>\n",
       "      <td>814</td>\n",
       "      <td>409</td>\n",
       "      <td>591</td>\n",
       "      <td>1249</td>\n",
       "      <td>1491</td>\n",
       "      <td>2556</td>\n",
       "      <td>9.807475</td>\n",
       "      <td>9.671574</td>\n",
       "      <td>9.218573</td>\n",
       "      <td>4.631937</td>\n",
       "      <td>6.693092</td>\n",
       "      <td>14.144960</td>\n",
       "      <td>16.885617</td>\n",
       "      <td>28.946772</td>\n",
       "      <td>2018/5/1 0:00</td>\n",
       "      <td>2018/5/20 0:00</td>\n",
       "    </tr>\n",
       "  </tbody>\n",
       "</table>\n",
       "</div>"
      ],
      "text/plain": [
       "            31.5mm-(g)  19-31.5mm(g)  9-15mm(g)  7-9mm(g)  5-7mm(g)  2-5mm(g)  \\\n",
       "TIMESTAMP                                                                       \n",
       "2017-11-23         134           507       1120       804      1557      2718   \n",
       "2017-11-23           0            61        423       439      1671      4498   \n",
       "2017-11-23           0            81        697      1091      2481      4775   \n",
       "2018-04-28        1172          1713       1690       787      1046      2125   \n",
       "2018-04-28         901          1223       1678       747      1226      2395   \n",
       "2018-04-28        1267          1086       1981       823      1174      2340   \n",
       "2018-07-16         387           551        975       372       530      1269   \n",
       "2018-07-16         458           678       1240       417       560       974   \n",
       "2018-07-16         866           854        814       409       591      1249   \n",
       "\n",
       "            1-2mm(g)  -1mm(g)  31.5mm-(%)  19-31.5mm(%)  9-15mm(%)  7-9mm(%)  \\\n",
       "TIMESTAMP                                                                      \n",
       "2017-11-23      2163     3079    1.109088      4.196325   9.269988  6.654527   \n",
       "2017-11-23      3408     2147    0.000000      0.482328   3.344667  3.471179   \n",
       "2017-11-23      2073     1296    0.000000      0.648311   5.578678  8.732191   \n",
       "2018-04-28      2447     3634    8.019707     11.721637  11.564253  5.385247   \n",
       "2018-04-28      2619     3697    6.219798      8.442634  11.583598  5.156703   \n",
       "2018-04-28      2386     3213    8.878767      7.610371  13.882270  5.767344   \n",
       "2018-07-16      2048     3800    3.896496      5.547725   9.816754  3.745469   \n",
       "2018-07-16      1211     2502    5.696517      8.432836  15.422886  5.186567   \n",
       "2018-07-16      1491     2556    9.807475      9.671574   9.218573  4.631937   \n",
       "\n",
       "             5-7mm(%)   2-5mm(%)   1-2mm(%)    -1mm(%)       starttime  \\\n",
       "TIMESTAMP                                                                \n",
       "2017-11-23  12.886939  22.496275  17.902665  25.484191  2017/9/21 0:00   \n",
       "2017-11-23  13.212620  35.565747  26.947102  16.976358  2017/9/21 0:00   \n",
       "2017-11-23  19.857532  38.218345  16.591964  10.372979  2017/9/21 0:00   \n",
       "2018-04-28   7.157520  14.540851  16.744218  24.866566  2018/4/15 0:00   \n",
       "2018-04-28   8.463344  16.533204  18.079525  25.521193  2018/4/15 0:00   \n",
       "2018-04-28   8.227050  16.398038  16.720392  22.515767  2018/4/15 0:00   \n",
       "2018-07-16   5.336287  12.776883  20.620217  38.260169   2018/5/1 0:00   \n",
       "2018-07-16   6.965174  12.114428  15.062189  31.119403   2018/5/1 0:00   \n",
       "2018-07-16   6.693092  14.144960  16.885617  28.946772   2018/5/1 0:00   \n",
       "\n",
       "                   endtime  \n",
       "TIMESTAMP                   \n",
       "2017-11-23  2017/9/23 0:00  \n",
       "2017-11-23  2017/9/23 0:00  \n",
       "2017-11-23  2017/9/23 0:00  \n",
       "2018-04-28  2018/4/28 0:00  \n",
       "2018-04-28  2018/4/28 0:00  \n",
       "2018-04-28  2018/4/28 0:00  \n",
       "2018-07-16  2018/5/20 0:00  \n",
       "2018-07-16  2018/5/20 0:00  \n",
       "2018-07-16  2018/5/20 0:00  "
      ]
     },
     "execution_count": 119,
     "metadata": {},
     "output_type": "execute_result"
    }
   ],
   "source": [
    "print('furui粒径界の上限', x_furui)\n",
    "print('Tot粒径界の上限', x_tot)\n",
    "print('furui粒径界(g)', g_furui)\n",
    "print('furui粒径界(%)', percent_furui)\n",
    "\n",
    "df_furui"
   ]
  },
  {
   "cell_type": "code",
   "execution_count": 120,
   "metadata": {
    "ExecuteTime": {
     "end_time": "2020-02-20T00:52:57.031462Z",
     "start_time": "2020-02-20T00:52:57.010518Z"
    },
    "code_folding": []
   },
   "outputs": [],
   "source": [
    "#ふるい結果の日数\n",
    "num_furui = int(len(df_furui)/3)\n",
    "#それぞれのふるい日の-45cmの％データをリストに格納\n",
    "list_furui_percent45cm = []\n",
    "for i in range(num_furui):\n",
    "    list_furui_percent45cm.append(df_furui[3*i+1:3*i+2][percent_furui])\n",
    "\n",
    "#list_furui_percent45cmの％を累積％に変換\n",
    "list_furui_percent45cm_cumsum = []\n",
    "for furui_percent45cm in list_furui_percent45cm:\n",
    "    list_furui_percent45cm_cumsum.append(np.cumsum(furui_percent45cm, axis=1))\n",
    "    \n"
   ]
  },
  {
   "cell_type": "code",
   "execution_count": 121,
   "metadata": {
    "ExecuteTime": {
     "end_time": "2020-02-20T00:52:57.042125Z",
     "start_time": "2020-02-20T00:52:57.034453Z"
    }
   },
   "outputs": [
    {
     "data": {
      "text/plain": [
       "'2018/4/15 0:00'"
      ]
     },
     "execution_count": 121,
     "metadata": {},
     "output_type": "execute_result"
    }
   ],
   "source": [
    "df_furui['starttime'][3]"
   ]
  },
  {
   "cell_type": "code",
   "execution_count": 122,
   "metadata": {
    "ExecuteTime": {
     "end_time": "2020-02-20T00:52:57.055397Z",
     "start_time": "2020-02-20T00:52:57.045424Z"
    }
   },
   "outputs": [],
   "source": [
    "x_each = []\n",
    "y_each = []\n",
    "for i in range(num_furui):\n",
    "    x_each.append(np.insert(x_furui, 0, 0))\n",
    "    y_each.append(np.insert(np.array(list_furui_percent45cm_cumsum[i]).flatten(), 0, 0))\n",
    "    "
   ]
  },
  {
   "cell_type": "markdown",
   "metadata": {},
   "source": [
    "ここで，それぞれのふるい結果の45cm付近に溜まった土砂がいつのものであるかおおよその期間を，ピットの増減を見ながら決める\n",
    "新しいピットデータを加える際は，ここに期間を新たに追加しなければいいけない"
   ]
  },
  {
   "cell_type": "code",
   "execution_count": 123,
   "metadata": {
    "ExecuteTime": {
     "end_time": "2020-02-20T00:52:57.264836Z",
     "start_time": "2020-02-20T00:52:57.058389Z"
    }
   },
   "outputs": [
    {
     "ename": "IndexError",
     "evalue": "index out of bounds",
     "output_type": "error",
     "traceback": [
      "\u001b[1;31m---------------------------------------------------------------------------\u001b[0m",
      "\u001b[1;31mKeyError\u001b[0m                                  Traceback (most recent call last)",
      "\u001b[1;32m~\\Anaconda3\\lib\\site-packages\\pandas\\core\\indexes\\base.py\u001b[0m in \u001b[0;36mget_value\u001b[1;34m(self, series, key)\u001b[0m\n\u001b[0;32m   4729\u001b[0m         \u001b[1;32mtry\u001b[0m\u001b[1;33m:\u001b[0m\u001b[1;33m\u001b[0m\u001b[1;33m\u001b[0m\u001b[0m\n\u001b[1;32m-> 4730\u001b[1;33m             \u001b[1;32mreturn\u001b[0m \u001b[0mself\u001b[0m\u001b[1;33m.\u001b[0m\u001b[0m_engine\u001b[0m\u001b[1;33m.\u001b[0m\u001b[0mget_value\u001b[0m\u001b[1;33m(\u001b[0m\u001b[0ms\u001b[0m\u001b[1;33m,\u001b[0m \u001b[0mk\u001b[0m\u001b[1;33m,\u001b[0m \u001b[0mtz\u001b[0m\u001b[1;33m=\u001b[0m\u001b[0mgetattr\u001b[0m\u001b[1;33m(\u001b[0m\u001b[0mseries\u001b[0m\u001b[1;33m.\u001b[0m\u001b[0mdtype\u001b[0m\u001b[1;33m,\u001b[0m \u001b[1;34m\"tz\"\u001b[0m\u001b[1;33m,\u001b[0m \u001b[1;32mNone\u001b[0m\u001b[1;33m)\u001b[0m\u001b[1;33m)\u001b[0m\u001b[1;33m\u001b[0m\u001b[1;33m\u001b[0m\u001b[0m\n\u001b[0m\u001b[0;32m   4731\u001b[0m         \u001b[1;32mexcept\u001b[0m \u001b[0mKeyError\u001b[0m \u001b[1;32mas\u001b[0m \u001b[0me1\u001b[0m\u001b[1;33m:\u001b[0m\u001b[1;33m\u001b[0m\u001b[1;33m\u001b[0m\u001b[0m\n",
      "\u001b[1;32mpandas\\_libs\\index.pyx\u001b[0m in \u001b[0;36mpandas._libs.index.IndexEngine.get_value\u001b[1;34m()\u001b[0m\n",
      "\u001b[1;32mpandas\\_libs\\index.pyx\u001b[0m in \u001b[0;36mpandas._libs.index.IndexEngine.get_value\u001b[1;34m()\u001b[0m\n",
      "\u001b[1;32mpandas\\_libs\\index.pyx\u001b[0m in \u001b[0;36mpandas._libs.index.DatetimeEngine.get_loc\u001b[1;34m()\u001b[0m\n",
      "\u001b[1;32mpandas\\_libs\\index.pyx\u001b[0m in \u001b[0;36mpandas._libs.index.IndexEngine._get_loc_duplicates\u001b[1;34m()\u001b[0m\n",
      "\u001b[1;31mKeyError\u001b[0m: 10",
      "\nDuring handling of the above exception, another exception occurred:\n",
      "\u001b[1;31mIndexError\u001b[0m                                Traceback (most recent call last)",
      "\u001b[1;32m<ipython-input-123-98ba751df26f>\u001b[0m in \u001b[0;36m<module>\u001b[1;34m\u001b[0m\n\u001b[0;32m      4\u001b[0m \u001b[0mlist_end_furui\u001b[0m \u001b[1;33m=\u001b[0m \u001b[1;33m[\u001b[0m\u001b[1;33m]\u001b[0m\u001b[1;33m\u001b[0m\u001b[1;33m\u001b[0m\u001b[0m\n\u001b[0;32m      5\u001b[0m \u001b[1;32mfor\u001b[0m \u001b[0mi\u001b[0m \u001b[1;32min\u001b[0m \u001b[0mrange\u001b[0m\u001b[1;33m(\u001b[0m\u001b[0mnum_furui\u001b[0m\u001b[1;33m)\u001b[0m\u001b[1;33m:\u001b[0m\u001b[1;33m\u001b[0m\u001b[1;33m\u001b[0m\u001b[0m\n\u001b[1;32m----> 6\u001b[1;33m     \u001b[0mlist_start_furui\u001b[0m\u001b[1;33m.\u001b[0m\u001b[0mappend\u001b[0m\u001b[1;33m(\u001b[0m\u001b[0mdf_furui\u001b[0m\u001b[1;33m[\u001b[0m\u001b[1;34m'starttime'\u001b[0m\u001b[1;33m]\u001b[0m\u001b[1;33m[\u001b[0m\u001b[1;36m3\u001b[0m\u001b[1;33m*\u001b[0m\u001b[0mnum_furui\u001b[0m\u001b[1;33m+\u001b[0m\u001b[1;36m1\u001b[0m\u001b[1;33m]\u001b[0m\u001b[1;33m)\u001b[0m\u001b[1;33m\u001b[0m\u001b[1;33m\u001b[0m\u001b[0m\n\u001b[0m\u001b[0;32m      7\u001b[0m     \u001b[0mlist_end_furui\u001b[0m\u001b[1;33m.\u001b[0m\u001b[0mappend\u001b[0m\u001b[1;33m(\u001b[0m\u001b[0mdf_furui\u001b[0m\u001b[1;33m[\u001b[0m\u001b[1;34m'endtime'\u001b[0m\u001b[1;33m]\u001b[0m\u001b[1;33m[\u001b[0m\u001b[1;36m3\u001b[0m\u001b[1;33m*\u001b[0m\u001b[0mnum_furui\u001b[0m\u001b[1;33m+\u001b[0m\u001b[1;36m1\u001b[0m\u001b[1;33m]\u001b[0m\u001b[1;33m)\u001b[0m\u001b[1;33m\u001b[0m\u001b[1;33m\u001b[0m\u001b[0m\n\u001b[0;32m      8\u001b[0m \u001b[1;33m\u001b[0m\u001b[0m\n",
      "\u001b[1;32m~\\Anaconda3\\lib\\site-packages\\pandas\\core\\series.py\u001b[0m in \u001b[0;36m__getitem__\u001b[1;34m(self, key)\u001b[0m\n\u001b[0;32m   1069\u001b[0m         \u001b[0mkey\u001b[0m \u001b[1;33m=\u001b[0m \u001b[0mcom\u001b[0m\u001b[1;33m.\u001b[0m\u001b[0mapply_if_callable\u001b[0m\u001b[1;33m(\u001b[0m\u001b[0mkey\u001b[0m\u001b[1;33m,\u001b[0m \u001b[0mself\u001b[0m\u001b[1;33m)\u001b[0m\u001b[1;33m\u001b[0m\u001b[1;33m\u001b[0m\u001b[0m\n\u001b[0;32m   1070\u001b[0m         \u001b[1;32mtry\u001b[0m\u001b[1;33m:\u001b[0m\u001b[1;33m\u001b[0m\u001b[1;33m\u001b[0m\u001b[0m\n\u001b[1;32m-> 1071\u001b[1;33m             \u001b[0mresult\u001b[0m \u001b[1;33m=\u001b[0m \u001b[0mself\u001b[0m\u001b[1;33m.\u001b[0m\u001b[0mindex\u001b[0m\u001b[1;33m.\u001b[0m\u001b[0mget_value\u001b[0m\u001b[1;33m(\u001b[0m\u001b[0mself\u001b[0m\u001b[1;33m,\u001b[0m \u001b[0mkey\u001b[0m\u001b[1;33m)\u001b[0m\u001b[1;33m\u001b[0m\u001b[1;33m\u001b[0m\u001b[0m\n\u001b[0m\u001b[0;32m   1072\u001b[0m \u001b[1;33m\u001b[0m\u001b[0m\n\u001b[0;32m   1073\u001b[0m             \u001b[1;32mif\u001b[0m \u001b[1;32mnot\u001b[0m \u001b[0mis_scalar\u001b[0m\u001b[1;33m(\u001b[0m\u001b[0mresult\u001b[0m\u001b[1;33m)\u001b[0m\u001b[1;33m:\u001b[0m\u001b[1;33m\u001b[0m\u001b[1;33m\u001b[0m\u001b[0m\n",
      "\u001b[1;32m~\\Anaconda3\\lib\\site-packages\\pandas\\core\\indexes\\datetimes.py\u001b[0m in \u001b[0;36mget_value\u001b[1;34m(self, series, key)\u001b[0m\n\u001b[0;32m    991\u001b[0m \u001b[1;33m\u001b[0m\u001b[0m\n\u001b[0;32m    992\u001b[0m         \u001b[1;32mtry\u001b[0m\u001b[1;33m:\u001b[0m\u001b[1;33m\u001b[0m\u001b[1;33m\u001b[0m\u001b[0m\n\u001b[1;32m--> 993\u001b[1;33m             \u001b[1;32mreturn\u001b[0m \u001b[0mcom\u001b[0m\u001b[1;33m.\u001b[0m\u001b[0mmaybe_box\u001b[0m\u001b[1;33m(\u001b[0m\u001b[0mself\u001b[0m\u001b[1;33m,\u001b[0m \u001b[0mIndex\u001b[0m\u001b[1;33m.\u001b[0m\u001b[0mget_value\u001b[0m\u001b[1;33m(\u001b[0m\u001b[0mself\u001b[0m\u001b[1;33m,\u001b[0m \u001b[0mseries\u001b[0m\u001b[1;33m,\u001b[0m \u001b[0mkey\u001b[0m\u001b[1;33m)\u001b[0m\u001b[1;33m,\u001b[0m \u001b[0mseries\u001b[0m\u001b[1;33m,\u001b[0m \u001b[0mkey\u001b[0m\u001b[1;33m)\u001b[0m\u001b[1;33m\u001b[0m\u001b[1;33m\u001b[0m\u001b[0m\n\u001b[0m\u001b[0;32m    994\u001b[0m         \u001b[1;32mexcept\u001b[0m \u001b[0mKeyError\u001b[0m\u001b[1;33m:\u001b[0m\u001b[1;33m\u001b[0m\u001b[1;33m\u001b[0m\u001b[0m\n\u001b[0;32m    995\u001b[0m             \u001b[1;32mtry\u001b[0m\u001b[1;33m:\u001b[0m\u001b[1;33m\u001b[0m\u001b[1;33m\u001b[0m\u001b[0m\n",
      "\u001b[1;32m~\\Anaconda3\\lib\\site-packages\\pandas\\core\\indexes\\base.py\u001b[0m in \u001b[0;36mget_value\u001b[1;34m(self, series, key)\u001b[0m\n\u001b[0;32m   4734\u001b[0m \u001b[1;33m\u001b[0m\u001b[0m\n\u001b[0;32m   4735\u001b[0m             \u001b[1;32mtry\u001b[0m\u001b[1;33m:\u001b[0m\u001b[1;33m\u001b[0m\u001b[1;33m\u001b[0m\u001b[0m\n\u001b[1;32m-> 4736\u001b[1;33m                 \u001b[1;32mreturn\u001b[0m \u001b[0mlibindex\u001b[0m\u001b[1;33m.\u001b[0m\u001b[0mget_value_box\u001b[0m\u001b[1;33m(\u001b[0m\u001b[0ms\u001b[0m\u001b[1;33m,\u001b[0m \u001b[0mkey\u001b[0m\u001b[1;33m)\u001b[0m\u001b[1;33m\u001b[0m\u001b[1;33m\u001b[0m\u001b[0m\n\u001b[0m\u001b[0;32m   4737\u001b[0m             \u001b[1;32mexcept\u001b[0m \u001b[0mIndexError\u001b[0m\u001b[1;33m:\u001b[0m\u001b[1;33m\u001b[0m\u001b[1;33m\u001b[0m\u001b[0m\n\u001b[0;32m   4738\u001b[0m                 \u001b[1;32mraise\u001b[0m\u001b[1;33m\u001b[0m\u001b[1;33m\u001b[0m\u001b[0m\n",
      "\u001b[1;32mpandas\\_libs\\index.pyx\u001b[0m in \u001b[0;36mpandas._libs.index.get_value_box\u001b[1;34m()\u001b[0m\n",
      "\u001b[1;32mpandas\\_libs\\index.pyx\u001b[0m in \u001b[0;36mpandas._libs.index.get_value_at\u001b[1;34m()\u001b[0m\n",
      "\u001b[1;32mpandas\\_libs\\util.pxd\u001b[0m in \u001b[0;36mpandas._libs.util.get_value_at\u001b[1;34m()\u001b[0m\n",
      "\u001b[1;32mpandas\\_libs\\util.pxd\u001b[0m in \u001b[0;36mpandas._libs.util.validate_indexer\u001b[1;34m()\u001b[0m\n",
      "\u001b[1;31mIndexError\u001b[0m: index out of bounds"
     ]
    }
   ],
   "source": [
    "# list_start_furui =['2017-09-21 00:00:00', '2018-04-15 0:00', '2018-05-01 0:00']\n",
    "# list_end_furui = ['2017-09-23 00:00:00', '2018-04-28 0:00', '2018-05-20 0:00']\n",
    "list_start_furui = []\n",
    "list_end_furui = []\n",
    "for i in range(num_furui):\n",
    "    list_start_furui.append(df_furui['starttime'][3*num_furui+1])\n",
    "    list_end_furui.append(df_furui['endtime'][3*num_furui+1])\n",
    "\n",
    "def display_sediment_distribution(qcalc_sum_each, percent_ini, furui_no):\n",
    "    '''\n",
    "    display_sediment_distributions用のグラフ描くコード\n",
    "    '''\n",
    "    percents = [100-percent_ini]\n",
    "    percents.extend(list(np.array(qcalc_sum_each)/qcalc_sum_each.sum()*(percent_ini)))\n",
    "    percents_cumsum = np.cumsum(percents)\n",
    "    x_tot_use = x_tot[-len(qcalc_sum_each)-1:]\n",
    "\n",
    "    plt.figure(figsize=(6,4))\n",
    "    ax = plt.subplot(1,1,1) \n",
    "\n",
    "    ax.scatter(x_tot_use, percents_cumsum, label='calc.')\n",
    "    ax.scatter(x_furui, list_furui_percent45cm_cumsum[furui_no], label='obs.')\n",
    "\n",
    "    ax.set_xscale('log')\n",
    "    ax.set_ylim(0,105)\n",
    "    ax.set_xlim((0.1), 100)\n",
    "    ax.set_ylabel('Percentage passing \\n[%]')\n",
    "    ax.set_xlabel('Diameter [mm]')\n",
    "    ax.legend()\n",
    "    \n",
    "    return ax\n",
    "\n",
    "def display_sediment_distribution_selected(qcalc_sum_each, furui_no):\n",
    "    '''\n",
    "    #8.5㎜以上の粒度分布のための\n",
    "    display_sediment_distributions用のグラフ描くコード\n",
    "    急いで書いたからちょっとややこしいけど\n",
    "    とにかく8.5㎜以上だけの通過百分率\n",
    "    '''\n",
    "    \n",
    "    percent_furui_selected = percent_furui[-len(use_tots):]\n",
    "    list_furui_percent45cm_selected = []\n",
    "    x_tot_selected = []\n",
    "\n",
    "    for i in range(len(use_tots)):\n",
    "        list_furui_percent45cm_selected.append(calc_dia_rate(x_tot[-i-1], x_tot[-i-2], x_each[furui_no], y_each[furui_no]))\n",
    "        x_tot_selected.append(x_tot[-i-1])\n",
    "    x_tot_selected.append(x_tot[-len(use_tots)-1])\n",
    "    x_tot_selected = x_tot_selected[::-1]\n",
    "\n",
    "\n",
    "    array_furui_percent45cm_selected = np.array(list_furui_percent45cm_selected[::-1])/sum(list_furui_percent45cm_selected)*100\n",
    "    array_furui_percent45cm_selected_cumsum = np.cumsum(array_furui_percent45cm_selected)\n",
    "    array_furui_percent45cm_selected_cumsum = np.append(0, array_furui_percent45cm_selected_cumsum)\n",
    "\n",
    "    percent_ini = 100\n",
    "    percents = [100-percent_ini]\n",
    "    percents.extend(list(np.array(qcalc_sum_each)/qcalc_sum_each.sum()*(percent_ini)))\n",
    "    percents_cumsum = np.cumsum(percents)\n",
    "    x_tot_use = x_tot[-len(qcalc_sum_each)-1:]\n",
    "\n",
    "    plt.figure(figsize=(6,4))\n",
    "    ax = plt.subplot(1,1,1) \n",
    "\n",
    "    ax.scatter(x_tot_use, percents_cumsum, label='calc.')\n",
    "    ax.scatter(x_tot_selected, array_furui_percent45cm_selected_cumsum, label='obs.')\n",
    "    print(x_tot_selected)\n",
    "    print(array_furui_percent45cm_selected_cumsum)\n",
    "    ax.set_xscale('log')\n",
    "#     ax.set_ylim(0,105)\n",
    "    ax.set_xlim(5, 100)\n",
    "    ax.set_ylabel('Percentage passing \\n[%]')\n",
    "    ax.set_xlabel('Diameter [mm]')\n",
    "    ax.legend(loc='lower right')\n",
    "    \n",
    "    return ax\n",
    "\n",
    "    \n",
    "#     plt.show()   \n",
    "\n",
    "\n",
    "def display_sediment_distributions(df_qcalc_each_all, furui_no):\n",
    "    '''\n",
    "    furui_no:ふるい結果番号．順に０，１，２\n",
    "    '''\n",
    "    #alphaの値を%に直す\n",
    "    percent_ini = alpha*100\n",
    "    start = list_start_furui[furui_no]\n",
    "    end = list_end_furui[furui_no]\n",
    "    print('##'*10)    \n",
    "    print('期間：', start, '~', end)\n",
    "    #粒径別流砂量対象期間全量\n",
    "    qcalc_sum_each = qcalc_each_sum_period(df_qcalc_each_all, start=start, end=end)\n",
    "    \n",
    "    #alphaを補正無し\n",
    "    print('I set the initial alpha rate as {} here, because you set the alpha when optimizing'.format(percent_ini))\n",
    "    display_sediment_distribution(qcalc_sum_each=qcalc_sum_each, percent_ini=percent_ini, furui_no=furui_no)\n",
    "    plt.savefig(PATH_SAVE_GRAPHS + 'sediment_distributions_{}.jpg'.format(furui_no), bbox_inches=\"tight\")\n",
    "    plt.show()\n",
    "    #alphaを補正したもの\n",
    "    alpha_corrected = calc_dia_rate(50, 8.5, x_each[furui_no], y_each[furui_no])\n",
    "    print('I set the initial alpha rate as {} here so that you can see how accurate the sediment distribution given by method2 even though I set the alpha as {} when optimizing'.format(alpha_corrected, alpha))\n",
    "    percent_ini_corrected = alpha_corrected*100\n",
    "    display_sediment_distribution(qcalc_sum_each=qcalc_sum_each, percent_ini=percent_ini_corrected, furui_no=furui_no)\n",
    "    plt.savefig(PATH_SAVE_GRAPHS + 'sediment_distributions_corrected{}.jpg'.format(furui_no), bbox_inches=\"tight\")\n",
    "    plt.show()\n",
    "    #alphaを補正したもののアップ\n",
    "    print('Zoomed out')\n",
    "    percent_ini_corrected = alpha_corrected*100\n",
    "    ax = display_sediment_distribution(qcalc_sum_each=qcalc_sum_each, percent_ini=percent_ini_corrected, furui_no=furui_no)\n",
    "    ax.set_ylim((100-percent_ini_corrected)-10,105)\n",
    "    plt.savefig(PATH_SAVE_GRAPHS + 'sediment_distributions_corrected_zoomed{}.jpg'.format(furui_no), bbox_inches=\"tight\")\n",
    "    plt.show()\n",
    "    #8.5mm以上の通過百分率\n",
    "    display_sediment_distribution_selected(qcalc_sum_each=qcalc_sum_each, furui_no=furui_no)\n",
    "    plt.savefig(PATH_SAVE_GRAPHS + 'sediment_distributions_selected{}.jpg'.format(furui_no), bbox_inches=\"tight\")    \n",
    "    plt.show()\n"
   ]
  },
  {
   "cell_type": "code",
   "execution_count": 125,
   "metadata": {
    "ExecuteTime": {
     "end_time": "2020-02-20T04:15:20.842845Z",
     "start_time": "2020-02-20T04:15:20.834924Z"
    }
   },
   "outputs": [
    {
     "data": {
      "text/plain": [
       "'2018/5/1 0:00'"
      ]
     },
     "execution_count": 125,
     "metadata": {},
     "output_type": "execute_result"
    }
   ],
   "source": [
    "df_furui['starttime'][3*2+1]"
   ]
  },
  {
   "cell_type": "code",
   "execution_count": null,
   "metadata": {
    "ExecuteTime": {
     "end_time": "2020-02-20T00:52:57.269916Z",
     "start_time": "2020-02-20T00:49:08.357Z"
    }
   },
   "outputs": [],
   "source": [
    "def display_results_comparing_furui(qcalc_all, df_qcalc_each_all):\n",
    "    for i in range(num_furui):\n",
    "        display_sediment_distributions(df_qcalc_each_all, furui_no=i)\n",
    "        compare_qcalc_qobs(qcalc_all, qobs=qobs_test, start=list_start_furui[i], end=list_end_furui[i])"
   ]
  },
  {
   "cell_type": "code",
   "execution_count": null,
   "metadata": {
    "ExecuteTime": {
     "end_time": "2020-02-20T00:52:57.272816Z",
     "start_time": "2020-02-20T00:49:08.361Z"
    }
   },
   "outputs": [],
   "source": [
    "for i in range(num_furui):\n",
    "    display_sediment_distributions(df_qcalc_each_all, furui_no=i)"
   ]
  },
  {
   "cell_type": "code",
   "execution_count": null,
   "metadata": {},
   "outputs": [],
   "source": []
  },
  {
   "cell_type": "markdown",
   "metadata": {
    "ExecuteTime": {
     "end_time": "2020-02-03T08:23:14.873135Z",
     "start_time": "2020-02-03T08:22:15.593Z"
    }
   },
   "source": [
    "以上，パルス数から流砂量を算出してピットデータと比較する流れです．  \n",
    "こでは，ピット直上ハイドロフォンとピットデータから流砂量を算出していますが，5本のハイドロフォンデータを用いて横断分布観測もできます．基本的には同じ流れで，5本のハイドロフォンの中心のハイドロフォンとピットのデータを使ってCとβを算出して，残りの4本のハイドロフォンの規格が同じとしてそのC,βを使えばいいです．ただし，私の修論では，5本のハイドロフォンのデータが2018年以降のデータしかなく，データ数が少なかったため，ピット直上ハイドロフォンと5本のハイドロフォンの規格が全く同じであると仮定して，ピット直上ハイドロフォンデータから算出したC,βを使って横断分布を出しました．  \n",
    "調べたところ，ピット直上ハイドロフォンと5本のセンターハイドロフォンはほぼ検出パルス数は/mに直すとほぼ１：１になりますが，パルスの飽和を起こすパルス数に違いがあるようです（長さが違うので）．厳密に議論したい場合，そのパルスの飽和について補正する必要があります．この議論を避けるならば，5本のハイドロフォンのデータ数を十分に溜めて，ピット直上ハイドロフォンデータを使わないべきです．"
   ]
  },
  {
   "cell_type": "code",
   "execution_count": null,
   "metadata": {},
   "outputs": [],
   "source": []
  },
  {
   "cell_type": "code",
   "execution_count": null,
   "metadata": {},
   "outputs": [],
   "source": []
  },
  {
   "cell_type": "code",
   "execution_count": null,
   "metadata": {},
   "outputs": [],
   "source": []
  },
  {
   "cell_type": "code",
   "execution_count": null,
   "metadata": {},
   "outputs": [],
   "source": []
  },
  {
   "cell_type": "code",
   "execution_count": null,
   "metadata": {},
   "outputs": [],
   "source": []
  },
  {
   "cell_type": "code",
   "execution_count": null,
   "metadata": {
    "ExecuteTime": {
     "end_time": "2020-02-20T00:52:57.274810Z",
     "start_time": "2020-02-20T00:49:08.381Z"
    }
   },
   "outputs": [],
   "source": [
    "print(\"{}{: >25}{}{: >10}{}\".format('|','Variable Name','|','Memory','|'))\n",
    "print(\" ------------------------------------ \")\n",
    "for var_name in dir():\n",
    "    if not var_name.startswith(\"_\") and sys.getsizeof(eval(var_name)) > 10000: #ここだけアレンジ\n",
    "        print(\"{}{: >25}{}{: >10}{}\".format('|',var_name,'|',sys.getsizeof(eval(var_name)),'|'))\n",
    "        \n"
   ]
  }
 ],
 "metadata": {
  "kernelspec": {
   "display_name": "Python 3",
   "language": "python",
   "name": "python3"
  },
  "language_info": {
   "codemirror_mode": {
    "name": "ipython",
    "version": 3
   },
   "file_extension": ".py",
   "mimetype": "text/x-python",
   "name": "python",
   "nbconvert_exporter": "python",
   "pygments_lexer": "ipython3",
   "version": "3.7.5"
  },
  "toc": {
   "base_numbering": 1,
   "nav_menu": {},
   "number_sections": true,
   "sideBar": true,
   "skip_h1_title": false,
   "title_cell": "Table of Contents",
   "title_sidebar": "Contents",
   "toc_cell": false,
   "toc_position": {
    "height": "507.732px",
    "left": "53px",
    "top": "110.926px",
    "width": "263.484px"
   },
   "toc_section_display": true,
   "toc_window_display": true
  }
 },
 "nbformat": 4,
 "nbformat_minor": 2
}
